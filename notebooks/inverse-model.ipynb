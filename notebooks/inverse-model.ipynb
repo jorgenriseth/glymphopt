{
 "cells": [
  {
   "cell_type": "markdown",
   "id": "f2a3dab1",
   "metadata": {},
   "source": [
    "# Inverse-Model\n",
    "Implementation steps\n",
    "- [x] Implement hessian-vector product\n",
    "- [x] implement projected newton solver\n",
    "- [x] ensure correctness with measurement times not conforming to grid\n",
    "- [ ] verify functioning model with linear interpolation of boundary concentrations\n",
    "- [ ] extend to full 3d brain with proper data\n",
    "- [ ] performance optimization by caching\n",
    "- [ ] run full model for all subjects\n",
    "- [ ] enable linear interpolation measurements"
   ]
  },
  {
   "cell_type": "code",
   "execution_count": 1,
   "id": "a9fc35d3",
   "metadata": {},
   "outputs": [
    {
     "name": "stderr",
     "output_type": "stream",
     "text": [
      "[garrus:70650] shmem: mmap: an error occurred while determining whether or not /tmp/ompi.garrus.1000/jf.0/2705784832/shared_mem_cuda_pool.garrus could be created.\n",
      "[garrus:70650] create_and_attach: unable to create shared memory BTL coordinating structure :: size 134217728 \n"
     ]
    }
   ],
   "source": [
    "import numpy as np\n",
    "import dolfin as df\n",
    "import tqdm\n",
    "from dolfin import inner, grad, dot\n",
    "\n",
    "from glymphopt.datageneration import BoundaryConcentration\n",
    "from glymphopt.finite_differences import gradient_finite_differences, hessian_finite_differences\n",
    "from glymphopt.io import read_mesh, read_function_data\n",
    "from glymphopt.measure import measure\n",
    "from glymphopt.minimize import projected_newton_solver\n",
    "from glymphopt.operators import (\n",
    "    mass_matrix, boundary_mass_matrix, stiffness_matrix, matrix_operator, bilinear_operator, matmul, zero_vector\n",
    ")\n",
    "from glymphopt.parameters import parameters_2d_default\n",
    "from glymphopt.timestepper import TimeStepper"
   ]
  },
  {
   "cell_type": "code",
   "execution_count": 2,
   "id": "542db58a",
   "metadata": {},
   "outputs": [],
   "source": [
    "def vector2coeff(x: np.ndarray, *args):\n",
    "    return parameters_2d_default() | {key: xi for key, xi in zip(args, x)}\n",
    "\n",
    "def coeff2vector(coefficients: dict[str, float], *args):\n",
    "    return np.array([coefficients[key] for key in args])\n",
    "\n",
    "class Model:\n",
    "    def __init__(self, V, D=None, g=None):\n",
    "        D = D or df.Identity(2)\n",
    "        \n",
    "        domain = V.mesh()\n",
    "        dx = df.Measure(\"dx\", domain)\n",
    "        ds = df.Measure(\"ds\", domain)\n",
    "        \n",
    "        u, v = df.TrialFunction(V), df.TestFunction(V)\n",
    "        self.M = df.assemble(inner(u, v) * dx)\n",
    "        self.DK = df.assemble(inner(D * grad(u), grad(v)) * dx)\n",
    "        self.S = df.assemble(inner(u, v) * ds)\n",
    "        self.g = g or BoundaryConcentration(V)\n",
    "\n",
    "\n",
    "def gradient_sensitivities(F, x, **kwargs):\n",
    "    return np.array([F(x, ei, **kwargs) for ei in np.eye(len(x))])\n",
    "\n",
    "def measure_interval(n: int, td: np.ndarray, timestepper: TimeStepper):\n",
    "    bins = np.digitize(td, timestepper.vector(), right=True)\n",
    "    return list(np.where(n == bins)[0])\n",
    "\n",
    "class InverseProblem:\n",
    "    def __init__(self, data_path, dt=0.1, progress=True):\n",
    "        self.progress = progress\n",
    "        domain = read_mesh(data_path)\n",
    "        self.td, self.Yd = read_function_data(data_path, domain, \"concentration\")\n",
    "        t_start = self.td[0]\n",
    "        N = int(np.ceil(np.round((self.td[-1] - t_start) / dt, 12)))\n",
    "        t_end = N * dt\n",
    "        self.timestepper = TimeStepper(dt, (t_start, t_end))\n",
    "        self.V = self.Yd[0].function_space()\n",
    "        self.model = Model(self.V, g=BoundaryConcentration(self.V))\n",
    "        \n",
    "    def F(self, x):\n",
    "        Y = self.forward(x)\n",
    "        Ym = measure(self.timestepper, Y, self.td)\n",
    "        _M_ = bilinear_operator(self.model.M)\n",
    "        J = 0.5 * sum([\n",
    "            _M_(Ym_i.vector() - Yd_i.vector(), Ym_i.vector() - Yd_i.vector()) \n",
    "            for Ym_i, Yd_i in zip(Ym, self.Yd)\n",
    "        ])\n",
    "        return J\n",
    "    \n",
    "    def gradF(self, x):\n",
    "        dt = self.timestepper.dt\n",
    "        model = self.model\n",
    "        Y = self.forward(x)\n",
    "        Ym = measure(self.timestepper, Y, self.td)\n",
    "        P = self.adjoint(x, self.timestepper, Ym)\n",
    "        G = [matmul(model.S, model.g(t)) for t in self.timestepper.vector()]\n",
    "        _M_ = bilinear_operator(model.M)\n",
    "        _DK_ = bilinear_operator(model.DK)\n",
    "        _S_ = bilinear_operator(model.S)\n",
    "        return dt * sum(\n",
    "            np.array([\n",
    "                _DK_(p.vector(), y.vector()),\n",
    "                _M_(p.vector(), y.vector()),\n",
    "                _S_(p.vector(), y.vector()) - p.vector().inner(g),\n",
    "            ])\n",
    "            for y, p, g in zip(Y[1:], P[:-1], G[1:])\n",
    "        )\n",
    "\n",
    "    def dF(self, x, dx):\n",
    "        timestepper = self.timestepper\n",
    "        coefficients = vector2coeff(x)\n",
    "        Y = self.forward(x)\n",
    "        dY = self.sensitivity(x, dx, Y)\n",
    "        \n",
    "        Ym = measure(self.timestepper, Y, self.td)\n",
    "        dYm = measure(timestepper, dY, self.td)\n",
    "        _M_ = bilinear_operator(self.model.M)\n",
    "        return sum([_M_(ym.vector() - yd.vector(), dy.vector()) for ym, yd, dy in zip(Ym, self.Yd, dYm)])\n",
    "    \n",
    "    def hess(self, x):\n",
    "        return np.array([\n",
    "            self.hessp(x, ei) for ei in np.eye(len(x))\n",
    "        ])\n",
    "    \n",
    "    def hessp(self, x, dx):\n",
    "        dt = self.timestepper.dt\n",
    "        Y = self.forward(x)\n",
    "        Ym = measure(self.timestepper, Y, self.td)\n",
    "        dY = self.sensitivity(x, dx, Y)\n",
    "        dYm = measure(self.timestepper, dY, self.td)\n",
    "        \n",
    "        P = self.adjoint(x, self.timestepper, Ym)\n",
    "        dP = self.second_order_adjoint(x, dx, dYm, P)\n",
    "        \n",
    "        model = self.model\n",
    "        G = [matmul(model.S, model.g(t)) for t in self.timestepper.vector()]\n",
    "        _DK_ = bilinear_operator(model.DK)\n",
    "        _M_ = bilinear_operator(model.M)\n",
    "        _S_ = bilinear_operator(model.S)\n",
    "        return dt * sum(\n",
    "            np.array([\n",
    "                _DK_(dp.vector(), y.vector()) + _DK_(p.vector(), dy.vector()),\n",
    "                _M_(dp.vector(), y.vector()) + _M_(p.vector(), dy.vector()),\n",
    "                _S_(dp.vector(), y.vector()) - dp.vector().inner(g) + _S_(p.vector(), dy.vector()),\n",
    "            ])\n",
    "            for y, dy, p, dp, g in zip(Y[1:], dY[1:], P[:-1], dP[:-1], G[1:])\n",
    "        )\n",
    "\n",
    "    def forward(self, x):\n",
    "        coefficients = vector2coeff(x, \"a\", \"r\", \"k\")\n",
    "        a = coefficients[\"a\"]\n",
    "        r = coefficients[\"r\"]\n",
    "        k = coefficients[\"k\"]\n",
    "        \n",
    "        timestepper = self.timestepper\n",
    "        dt = timestepper.dt\n",
    "        timepoints = timestepper.vector()\n",
    "        Y = [\n",
    "            df.Function(self.V, name=\"state\") \n",
    "            for _ in range(len(timepoints))\n",
    "        ]\n",
    "        Y[0].assign(self.Yd[0])\n",
    "        model = self.model\n",
    "        M = model.M\n",
    "        L = a * model.DK + r * model.M + k * model.S\n",
    "        solver = df.LUSolver(M + dt * L)\n",
    "        Mdot = matrix_operator(M)\n",
    "        G = [matmul(model.S, model.g(t)) for t in timepoints]\n",
    "        for n in range(self.timestepper.num_intervals()):\n",
    "            solver.solve(Y[n+1].vector(), Mdot(Y[n].vector()) + dt * k * G[n+1])\n",
    "        return Y\n",
    "    \n",
    "    def adjoint(self, x, timestepper, Ym) -> list[df.Function]:\n",
    "        # TODO: Needs speedup. Should not allocate zero_vector at each iteration.\n",
    "        coefficients = vector2coeff(x, \"a\", \"r\", \"k\")\n",
    "        a = coefficients[\"a\"]\n",
    "        r = coefficients[\"r\"]\n",
    "        k = coefficients[\"k\"]\n",
    "        \n",
    "        \n",
    "        dt = timestepper.dt\n",
    "        timepoints = timestepper.vector()\n",
    "        \n",
    "        model = self.model\n",
    "        M = model.M\n",
    "        L = a * model.DK + r * model.M + k * model.S\n",
    "        solver = df.LUSolver(M + dt * L)\n",
    "\n",
    "        P = [\n",
    "            df.Function(self.V, name=\"adjoint\") \n",
    "            for _ in range(len(timepoints))\n",
    "        ]\n",
    "        Mdot = matrix_operator(M)\n",
    "        num_intervals = timestepper.num_intervals()\n",
    "        for n in range(num_intervals, 0, -1):\n",
    "            nj = measure_interval(n, self.td, self.timestepper)\n",
    "            jump = sum((matmul(M, (Ym[j].vector() - Yd[j].vector())) for j in nj))#, start=zero_vector(self.V))\n",
    "\n",
    "            solver.solve(\n",
    "                P[n-1].vector(),\n",
    "                Mdot(P[n].vector()) - jump,\n",
    "            )\n",
    "        return P\n",
    "    \n",
    "    def sensitivity(self, x, dx, Y) -> list[df.Function]:\n",
    "        coefficients = vector2coeff(x, \"a\", \"r\", \"k\")\n",
    "        a = coefficients[\"a\"]\n",
    "        r = coefficients[\"r\"]\n",
    "        k = coefficients[\"k\"]\n",
    "        dD, dr, dk = dx\n",
    "\n",
    "        timestepper = self.timestepper\n",
    "        dt = timestepper.dt\n",
    "        timepoints = timestepper.vector()\n",
    "        dY = [df.Function(self.V, name=\"sensitivity\") for _ in range(len(timepoints))]\n",
    "\n",
    "        model = self.model\n",
    "        M = model.M\n",
    "        L = a * model.DK + r * model.M + k * model.S\n",
    "        solver = df.LUSolver(M + dt * L)\n",
    "        \n",
    "        dL = dD * model.DK + dr * model.M + dk * model.S\n",
    "        Mdot = matrix_operator(M)\n",
    "        dLdot = matrix_operator(dL)\n",
    "        Sdot = matrix_operator(model.S)\n",
    "        G = [matmul(model.S, model.g(t)) for t in timepoints]\n",
    "        for n, t in enumerate(timepoints[1:], start=0):\n",
    "            solver.solve(\n",
    "                dY[n+1].vector(),\n",
    "                Mdot(dY[n].vector()) - dt * dLdot(Y[n+1].vector()) + dt * dk * G[n+1]\n",
    "            )\n",
    "        return dY\n",
    "    \n",
    "    def second_order_adjoint(self, x, dx, dYm, P):\n",
    "        coefficients = vector2coeff(x, \"a\", \"r\", \"k\")\n",
    "        a = coefficients[\"a\"]\n",
    "        r = coefficients[\"r\"]\n",
    "        k = coefficients[\"k\"]\n",
    "        dD, dr, dk = dx\n",
    "\n",
    "        timestepper = self.timestepper\n",
    "        dt = timestepper.dt\n",
    "        timepoints = timestepper.vector()\n",
    "        \n",
    "        dP = [df.Function(self.V, name=\"second-order-adjoint\") for _ in range(len(timepoints))]\n",
    "\n",
    "        model = self.model\n",
    "        M = model.M\n",
    "        L = a * model.DK + r * model.M + k * model.S\n",
    "        dL = dD * model.DK + dr * model.M + dk * model.S\n",
    "        solver = df.LUSolver(M + dt * L)\n",
    "\n",
    "        Mdot = matrix_operator(M)\n",
    "        dLdot = matrix_operator(dL)\n",
    "        num_intervals = timestepper.num_intervals()\n",
    "        for n in range(num_intervals, 0, -1):\n",
    "            nj = measure_interval(n, self.td, self.timestepper)\n",
    "            jump = sum((matmul(M, dYm[j].vector()) for j in nj))\n",
    "            solver.solve(\n",
    "                dP[n - 1].vector(),\n",
    "                Mdot(dP[n].vector()) - dt * dLdot(P[n-1].vector()) - jump,\n",
    "            )\n",
    "        return dP\n"
   ]
  },
  {
   "cell_type": "code",
   "execution_count": 3,
   "id": "4b8f484c",
   "metadata": {},
   "outputs": [
    {
     "data": {
      "text/plain": [
       "2.4536373442562422e-23"
      ]
     },
     "execution_count": 3,
     "metadata": {},
     "output_type": "execute_result"
    }
   ],
   "source": [
    "data_path = \"../resources/concentrations.hdf\"\n",
    "progress = True\n",
    "domain = read_mesh(data_path)\n",
    "td, Yd = read_function_data(data_path, domain, \"concentration\")\n",
    "\n",
    "coefficients = parameters_2d_default()\n",
    "x0 = coeff2vector(coefficients, \"a\", \"r\", \"k\")\n",
    "x1 = 0.9 * x0\n",
    "problem = InverseProblem(data_path, dt=0.1)\n",
    "problem.F(x0)"
   ]
  },
  {
   "cell_type": "markdown",
   "id": "3b5421ec",
   "metadata": {},
   "source": [
    "# Convergence test for gradient"
   ]
  },
  {
   "cell_type": "code",
   "execution_count": 4,
   "id": "a1eaed83",
   "metadata": {},
   "outputs": [],
   "source": [
    "dF_findiff = gradient_finite_differences(problem.F, x1, h=1e-5)"
   ]
  },
  {
   "cell_type": "code",
   "execution_count": 5,
   "id": "58765af6",
   "metadata": {},
   "outputs": [],
   "source": [
    "gradF = problem.gradF(x1)"
   ]
  },
  {
   "cell_type": "code",
   "execution_count": 6,
   "id": "305ee119",
   "metadata": {},
   "outputs": [
    {
     "name": "stdout",
     "output_type": "stream",
     "text": [
      "h = 0.1, errornorm = 3.8878763693139233, rel=\n",
      "h = 0.05, errornorm = 0.9657156496509575, rel=4.0259017969928665\n",
      "h = 0.025, errornorm = 0.24104080816602313, rel=4.006440473705164\n",
      "h = 0.0125, errornorm = 0.06023598672215362, rel=4.001608030061091\n",
      "h = 0.00625, errornorm = 0.015057489989072382, rel=4.000400250364999\n",
      "h = 0.003125, errornorm = 0.0037642778337268943, rel=4.000100591449816\n",
      "h = 0.0015625, errornorm = 0.000941086916560361, rel=3.9999257958926844\n",
      "h = 0.00078125, errornorm = 0.00023526658516708008, rel=4.000087457774873\n"
     ]
    },
    {
     "data": {
      "image/png": "[encoded data removed]",
      "text/plain": [
       "<Figure size 640x480 with 1 Axes>"
      ]
     },
     "metadata": {},
     "output_type": "display_data"
    }
   ],
   "source": [
    "import matplotlib.pyplot as plt\n",
    "x = x1\n",
    "gradF = problem.gradF(x)\n",
    "\n",
    "hs = [0.5**i * 1e-1 for i in range(8)]\n",
    "errors = np.nan * np.zeros_like(hs)\n",
    "for i, h in enumerate(hs):\n",
    "    dF_findiff = gradient_finite_differences(problem.F, x, h=h)\n",
    "    errors[i] = np.linalg.norm(gradF - dF_findiff)\n",
    "    if i > 0:\n",
    "        print(f\"h = {h}, errornorm = {errors[i]}, rel={errors[i-1]/errors[i]}\")\n",
    "    else:\n",
    "        print(f\"h = {h}, errornorm = {errors[i]}, rel=\")\n",
    "\n",
    "plt.loglog(hs, errors, \"x-\")\n",
    "plt.show()"
   ]
  },
  {
   "cell_type": "markdown",
   "id": "7c81fd78",
   "metadata": {},
   "source": [
    "# Hessians"
   ]
  },
  {
   "cell_type": "code",
   "execution_count": 7,
   "id": "a495a884",
   "metadata": {},
   "outputs": [
    {
     "data": {
      "text/plain": [
       "array([[ 1.26393643e+01, -3.67711810e+03,  2.76653349e+01],\n",
       "       [-3.67711810e+03,  3.71265944e+06, -1.64234000e+04],\n",
       "       [ 2.76653349e+01, -1.64234000e+04,  5.33873384e+02]])"
      ]
     },
     "execution_count": 7,
     "metadata": {},
     "output_type": "execute_result"
    }
   ],
   "source": [
    "H = problem.hess(x)\n",
    "H"
   ]
  },
  {
   "cell_type": "code",
   "execution_count": 8,
   "id": "fd347142",
   "metadata": {},
   "outputs": [
    {
     "data": {
      "text/plain": [
       "array([[ 1.26393797e+01, -3.67717476e+03,  2.76653333e+01],\n",
       "       [-3.67717476e+03,  3.71270639e+06, -1.64235323e+04],\n",
       "       [ 2.76653333e+01, -1.64235323e+04,  5.33873368e+02]])"
      ]
     },
     "execution_count": 8,
     "metadata": {},
     "output_type": "execute_result"
    }
   ],
   "source": [
    "H_fd = hessian_finite_differences(problem.F, x, h=1e-4)\n",
    "H_fd"
   ]
  },
  {
   "cell_type": "code",
   "execution_count": 9,
   "id": "bcc4c0d1",
   "metadata": {},
   "outputs": [
    {
     "data": {
      "text/plain": [
       "array([[-1.53646089e-05,  5.66579664e-02,  1.63032501e-06],\n",
       "       [ 5.66579664e-02, -4.69536512e+01,  1.32269097e-01],\n",
       "       [ 1.63032503e-06,  1.32269096e-01,  1.53989218e-05]])"
      ]
     },
     "execution_count": 9,
     "metadata": {},
     "output_type": "execute_result"
    }
   ],
   "source": [
    "H - H_fd"
   ]
  },
  {
   "cell_type": "code",
   "execution_count": 12,
   "id": "521dd81c",
   "metadata": {},
   "outputs": [
    {
     "name": "stdout",
     "output_type": "stream",
     "text": [
      "Run in 45.812538623809814s\n"
     ]
    }
   ],
   "source": [
    "import time as pytime\n",
    "import scipy.optimize\n",
    "bounds = scipy.optimize.Bounds([1e-1, 0, 0], [np.inf, np.inf, np.inf])\n",
    "tic = pytime.time()\n",
    "sol_x = projected_newton_solver(\n",
    "    problem.F,\n",
    "    problem.gradF,\n",
    "    problem.hessp,\n",
    "    bounds=bounds,\n",
    "    x0=x1\n",
    ")\n",
    "toc = pytime.time()\n",
    "print(f\"Run in {toc - tic}s\")"
   ]
  },
  {
   "cell_type": "code",
   "execution_count": 13,
   "id": "7645889b",
   "metadata": {},
   "outputs": [
    {
     "data": {
      "text/plain": [
       "  message: Convergence: Projected gradient norm below tolerance.\n",
       "  success: True\n",
       "      fun: 8.282807460641504e-25\n",
       "        x: [ 1.010e+01  1.000e-03  1.310e+00]\n",
       "      nit: 4\n",
       "     nfev: 5\n",
       "     njev: 5\n",
       "     nhev: 16\n",
       "      jac: [ 6.420e-13 -5.108e-10 -1.765e-11]\n",
       " walltime: 45.81241321563721"
      ]
     },
     "execution_count": 13,
     "metadata": {},
     "output_type": "execute_result"
    }
   ],
   "source": [
    "sol_x"
   ]
  }
 ],
 "metadata": {
  "kernelspec": {
   "display_name": "Python 3 (ipykernel)",
   "language": "python",
   "name": "python3"
  },
  "language_info": {
   "codemirror_mode": {
    "name": "ipython",
    "version": 3
   },
   "file_extension": ".py",
   "mimetype": "text/x-python",
   "name": "python",
   "nbconvert_exporter": "python",
   "pygments_lexer": "ipython3",
   "version": "3.11.11"
  }
 },
 "nbformat": 4,
 "nbformat_minor": 5
}
