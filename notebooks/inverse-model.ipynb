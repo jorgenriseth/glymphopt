{
 "cells": [
  {
   "cell_type": "markdown",
   "id": "f2a3dab1",
   "metadata": {},
   "source": [
    "# Inverse-Model\n",
    "Implementation steps\n",
    "- [x] implement hessian-vector product\n",
    "    - gradient convergence according to Taylor-ish test.\n",
    "    - hessian approximation is close to finite-differences.\n",
    "- [x] implement projected newton solver\n",
    "    - still not tested with optimal values along boundary or outside bounds.\n",
    "- [x] ensure correctness with measurement times not conforming to grid\n",
    "    - measurements according to piecewise constant. Linear interpolation would require more work.\n",
    "- [x] verify functioning model with linear interpolation of boundary concentrations\n",
    "    - Does at least converge to a solution in the 2D case.\n",
    "- [ ] extend to full 3d brain with proper data\n",
    "- [ ] performance optimization by caching\n",
    "- [ ] run full model for all subjects\n",
    "- [ ] enable linear interpolation measurements"
   ]
  },
  {
   "cell_type": "code",
   "execution_count": 1,
   "id": "a9fc35d3",
   "metadata": {},
   "outputs": [
    {
     "name": "stderr",
     "output_type": "stream",
     "text": [
      "[garrus:86747] shmem: mmap: an error occurred while determining whether or not /tmp/ompi.garrus.1000/jf.0/1891041280/shared_mem_cuda_pool.garrus could be created.\n",
      "[garrus:86747] create_and_attach: unable to create shared memory BTL coordinating structure :: size 134217728 \n"
     ]
    }
   ],
   "source": [
    "import numpy as np\n",
    "import dolfin as df\n",
    "import tqdm\n",
    "import pint\n",
    "from dolfin import inner, grad, dot\n",
    "\n",
    "from glymphopt.datageneration import BoundaryConcentration\n",
    "from glymphopt.finite_differences import gradient_finite_differences, hessian_finite_differences\n",
    "from glymphopt.interpolation import LinearDataInterpolator\n",
    "from glymphopt.io import read_mesh, read_function_data\n",
    "from glymphopt.measure import measure\n",
    "from glymphopt.minimize import projected_newton_solver\n",
    "from glymphopt.operators import (\n",
    "    mass_matrix, boundary_mass_matrix, stiffness_matrix, matrix_operator, bilinear_operator, matmul, zero_vector\n",
    ")\n",
    "from glymphopt.parameters import parameters_2d_default\n",
    "from glymphopt.timestepper import TimeStepper"
   ]
  },
  {
   "cell_type": "code",
   "execution_count": 15,
   "id": "542db58a",
   "metadata": {},
   "outputs": [],
   "source": [
    "def vector2coeff(x: np.ndarray, *args):\n",
    "#     return parameters_2d_default() | {key: xi for key, xi in zip(args, x)}\n",
    "    T = pint.Quantity(\"1s\")\n",
    "    X = pint.Quantity(\"1mm\")\n",
    "    timescale = float(pint.Quantity(\"1s\") / T)\n",
    "    params = singlecomp_parameters(get_dimless_parameters(T, X))\n",
    "    coefficients = remove_units(params)\n",
    "    return remove_units(params) | {key: xi for key, xi in zip(args, x)}\n",
    "\n",
    "\n",
    "def coeff2vector(coefficients: dict[str, float], *args):\n",
    "    return np.array([coefficients[key] for key in args])\n",
    "\n",
    "class Model:\n",
    "    def __init__(self, V, D=None, g=None):\n",
    "        D = D or df.Identity(V.mesh().topology().dim())\n",
    "        \n",
    "        domain = V.mesh()\n",
    "        dx = df.Measure(\"dx\", domain)\n",
    "        ds = df.Measure(\"ds\", domain)\n",
    "        \n",
    "        u, v = df.TrialFunction(V), df.TestFunction(V)\n",
    "        self.M = df.assemble(inner(u, v) * dx)\n",
    "        self.DK = df.assemble(inner(D * grad(u), grad(v)) * dx)\n",
    "        self.S = df.assemble(inner(u, v) * ds)\n",
    "        self.g = g or BoundaryConcentration(V)\n",
    "\n",
    "\n",
    "def gradient_sensitivities(F, x, **kwargs):\n",
    "    return np.array([F(x, ei, **kwargs) for ei in np.eye(len(x))])\n",
    "\n",
    "def measure_interval(n: int, td: np.ndarray, timestepper: TimeStepper):\n",
    "    bins = np.digitize(td, timestepper.vector(), right=True)\n",
    "    return list(np.where(n == bins)[0])\n",
    "\n",
    "class InverseProblem:\n",
    "    def __init__(self, data_path, dt=0.1, g=None, D=None):\n",
    "        domain = read_mesh(data_path)\n",
    "        self.td, self.Yd = read_function_data(data_path, domain, \"concentration\")\n",
    "        t_start = self.td[0]\n",
    "        N = int(np.ceil(np.round((self.td[-1] - t_start) / dt, 12)))\n",
    "        t_end = N * dt\n",
    "        self.timestepper = TimeStepper(dt, (t_start, t_end))\n",
    "        self.V = self.Yd[0].function_space()\n",
    "        \n",
    "        g = g or BoundaryConcentration(self.V)\n",
    "        self.model = Model(self.V, g=g, D=D)\n",
    "        \n",
    "    def F(self, x):\n",
    "        Y = self.forward(x)\n",
    "        Ym = measure(self.timestepper, Y, self.td)\n",
    "        _M_ = bilinear_operator(self.model.M)\n",
    "        J = 0.5 * sum([\n",
    "            _M_(Ym_i.vector() - Yd_i.vector(), Ym_i.vector() - Yd_i.vector()) \n",
    "            for Ym_i, Yd_i in zip(Ym, self.Yd)\n",
    "        ])\n",
    "        return J\n",
    "    \n",
    "    def gradF(self, x):\n",
    "        dt = self.timestepper.dt\n",
    "        model = self.model\n",
    "        Y = self.forward(x)\n",
    "        Ym = measure(self.timestepper, Y, self.td)\n",
    "        P = self.adjoint(x, self.timestepper, Ym)\n",
    "        G = [matmul(model.S, model.g(t)) for t in self.timestepper.vector()]\n",
    "        _M_ = bilinear_operator(model.M)\n",
    "        _DK_ = bilinear_operator(model.DK)\n",
    "        _S_ = bilinear_operator(model.S)\n",
    "        return dt * sum(\n",
    "            np.array([\n",
    "                _DK_(p.vector(), y.vector()),\n",
    "                _M_(p.vector(), y.vector()),\n",
    "                _S_(p.vector(), y.vector()) - p.vector().inner(g),\n",
    "            ])\n",
    "            for y, p, g in zip(Y[1:], P[:-1], G[1:])\n",
    "        )\n",
    "\n",
    "    def dF(self, x, dx):\n",
    "        timestepper = self.timestepper\n",
    "        coefficients = vector2coeff(x)\n",
    "        Y = self.forward(x)\n",
    "        dY = self.sensitivity(x, dx, Y)\n",
    "        \n",
    "        Ym = measure(self.timestepper, Y, self.td)\n",
    "        dYm = measure(timestepper, dY, self.td)\n",
    "        _M_ = bilinear_operator(self.model.M)\n",
    "        return sum([_M_(ym.vector() - yd.vector(), dy.vector()) for ym, yd, dy in zip(Ym, self.Yd, dYm)])\n",
    "    \n",
    "    def hess(self, x):\n",
    "        return np.array([\n",
    "            self.hessp(x, ei) for ei in np.eye(len(x))\n",
    "        ])\n",
    "    \n",
    "    def hessp(self, x, dx):\n",
    "        dt = self.timestepper.dt\n",
    "        Y = self.forward(x)\n",
    "        Ym = measure(self.timestepper, Y, self.td)\n",
    "        dY = self.sensitivity(x, dx, Y)\n",
    "        dYm = measure(self.timestepper, dY, self.td)\n",
    "        \n",
    "        P = self.adjoint(x, self.timestepper, Ym)\n",
    "        dP = self.second_order_adjoint(x, dx, dYm, P)\n",
    "        \n",
    "        model = self.model\n",
    "        G = [matmul(model.S, model.g(t)) for t in self.timestepper.vector()]\n",
    "        _DK_ = bilinear_operator(model.DK)\n",
    "        _M_ = bilinear_operator(model.M)\n",
    "        _S_ = bilinear_operator(model.S)\n",
    "        return dt * sum(\n",
    "            np.array([\n",
    "                _DK_(dp.vector(), y.vector()) + _DK_(p.vector(), dy.vector()),\n",
    "                _M_(dp.vector(), y.vector()) + _M_(p.vector(), dy.vector()),\n",
    "                _S_(dp.vector(), y.vector()) - dp.vector().inner(g) + _S_(p.vector(), dy.vector()),\n",
    "            ])\n",
    "            for y, dy, p, dp, g in zip(Y[1:], dY[1:], P[:-1], dP[:-1], G[1:])\n",
    "        )\n",
    "\n",
    "    def forward(self, x):\n",
    "        coefficients = vector2coeff(x, \"a\", \"r\", \"k\")\n",
    "        a = coefficients[\"a\"]\n",
    "        r = coefficients[\"r\"]\n",
    "        k = coefficients[\"k\"]\n",
    "        \n",
    "        timestepper = self.timestepper\n",
    "        dt = timestepper.dt\n",
    "        timepoints = timestepper.vector()\n",
    "        Y = [\n",
    "            df.Function(self.V, name=\"state\") \n",
    "            for _ in range(len(timepoints))\n",
    "        ]\n",
    "        Y[0].assign(self.Yd[0])\n",
    "        model = self.model\n",
    "        M = model.M\n",
    "        L = a * model.DK + r * model.M + k * model.S\n",
    "        solver = df.LUSolver(M + dt * L)\n",
    "        Mdot = matrix_operator(M)\n",
    "        G = [matmul(model.S, model.g(t)) for t in timepoints]\n",
    "#         for n in range(self.timestepper.num_intervals()):\n",
    "        for n in range(self.timestepper.num_intervals()):\n",
    "            solver.solve(Y[n+1].vector(), Mdot(Y[n].vector()) + dt * k * G[n+1])\n",
    "        return Y\n",
    "    \n",
    "    def adjoint(self, x, timestepper, Ym) -> list[df.Function]:\n",
    "        # TODO: Needs speedup. Should not allocate zero_vector at each iteration.\n",
    "        coefficients = vector2coeff(x, \"a\", \"r\", \"k\")\n",
    "        a = coefficients[\"a\"]\n",
    "        r = coefficients[\"r\"]\n",
    "        k = coefficients[\"k\"]\n",
    "        \n",
    "        \n",
    "        dt = timestepper.dt\n",
    "        timepoints = timestepper.vector()\n",
    "        \n",
    "        model = self.model\n",
    "        M = model.M\n",
    "        L = a * model.DK + r * model.M + k * model.S\n",
    "        solver = df.LUSolver(M + dt * L)\n",
    "\n",
    "        P = [\n",
    "            df.Function(self.V, name=\"adjoint\") \n",
    "            for _ in range(len(timepoints))\n",
    "        ]\n",
    "        Mdot = matrix_operator(M)\n",
    "        num_intervals = timestepper.num_intervals()\n",
    "        for n in range(num_intervals, 0, -1):\n",
    "            nj = measure_interval(n, self.td, self.timestepper)\n",
    "            jump = sum((matmul(M, (Ym[j].vector() - Yd[j].vector())) for j in nj))#, start=zero_vector(self.V))\n",
    "\n",
    "            solver.solve(\n",
    "                P[n-1].vector(),\n",
    "                Mdot(P[n].vector()) - jump,\n",
    "            )\n",
    "        return P\n",
    "    \n",
    "    def sensitivity(self, x, dx, Y) -> list[df.Function]:\n",
    "        coefficients = vector2coeff(x, \"a\", \"r\", \"k\")\n",
    "        a = coefficients[\"a\"]\n",
    "        r = coefficients[\"r\"]\n",
    "        k = coefficients[\"k\"]\n",
    "        dD, dr, dk = dx\n",
    "\n",
    "        timestepper = self.timestepper\n",
    "        dt = timestepper.dt\n",
    "        timepoints = timestepper.vector()\n",
    "        dY = [df.Function(self.V, name=\"sensitivity\") for _ in range(len(timepoints))]\n",
    "\n",
    "        model = self.model\n",
    "        M = model.M\n",
    "        L = a * model.DK + r * model.M + k * model.S\n",
    "        solver = df.LUSolver(M + dt * L)\n",
    "        \n",
    "        dL = dD * model.DK + dr * model.M + dk * model.S\n",
    "        Mdot = matrix_operator(M)\n",
    "        dLdot = matrix_operator(dL)\n",
    "        Sdot = matrix_operator(model.S)\n",
    "        G = [matmul(model.S, model.g(t)) for t in timepoints]\n",
    "        for n, t in enumerate(timepoints[1:], start=0):\n",
    "            solver.solve(\n",
    "                dY[n+1].vector(),\n",
    "                Mdot(dY[n].vector()) - dt * dLdot(Y[n+1].vector()) + dt * dk * G[n+1]\n",
    "            )\n",
    "        return dY\n",
    "    \n",
    "    def second_order_adjoint(self, x, dx, dYm, P):\n",
    "        coefficients = vector2coeff(x, \"a\", \"r\", \"k\")\n",
    "        a = coefficients[\"a\"]\n",
    "        r = coefficients[\"r\"]\n",
    "        k = coefficients[\"k\"]\n",
    "        dD, dr, dk = dx\n",
    "\n",
    "        timestepper = self.timestepper\n",
    "        dt = timestepper.dt\n",
    "        timepoints = timestepper.vector()\n",
    "        \n",
    "        dP = [df.Function(self.V, name=\"second-order-adjoint\") for _ in range(len(timepoints))]\n",
    "\n",
    "        model = self.model\n",
    "        M = model.M\n",
    "        L = a * model.DK + r * model.M + k * model.S\n",
    "        dL = dD * model.DK + dr * model.M + dk * model.S\n",
    "        solver = df.LUSolver(M + dt * L)\n",
    "\n",
    "        Mdot = matrix_operator(M)\n",
    "        dLdot = matrix_operator(dL)\n",
    "        num_intervals = timestepper.num_intervals()\n",
    "        for n in range(num_intervals, 0, -1):\n",
    "            nj = measure_interval(n, self.td, self.timestepper)\n",
    "            jump = sum((matmul(M, dYm[j].vector()) for j in nj))\n",
    "            solver.solve(\n",
    "                dP[n - 1].vector(),\n",
    "                Mdot(dP[n].vector()) - dt * dLdot(P[n-1].vector()) - jump,\n",
    "            )\n",
    "        return dP"
   ]
  },
  {
   "cell_type": "code",
   "execution_count": 16,
   "id": "afe4d713",
   "metadata": {},
   "outputs": [],
   "source": [
    "from glymphopt.parameters import singlecomp_parameters, get_dimless_parameters, remove_units"
   ]
  },
  {
   "cell_type": "code",
   "execution_count": 17,
   "id": "5654a2d5",
   "metadata": {},
   "outputs": [
    {
     "data": {
      "text/plain": [
       "{'a': 0.13354545454545455,\n",
       " 'r': 9.090909090909091e-06,\n",
       " 'k': 0.0017272727272727275,\n",
       " 'phi': 0.22,\n",
       " 'phi_sas': 0.8}"
      ]
     },
     "execution_count": 17,
     "metadata": {},
     "output_type": "execute_result"
    }
   ],
   "source": [
    "coefficients"
   ]
  },
  {
   "cell_type": "code",
   "execution_count": null,
   "id": "7e1f8312",
   "metadata": {},
   "outputs": [],
   "source": []
  },
  {
   "cell_type": "code",
   "execution_count": 18,
   "id": "4b8f484c",
   "metadata": {},
   "outputs": [
    {
     "name": "stdout",
     "output_type": "stream",
     "text": [
      "Calling FFC just-in-time (JIT) compiler, this may take some time.\n"
     ]
    }
   ],
   "source": [
    "data_path = \"../resources/concentrations.hdf\"\n",
    "data_path = \"/home/jorgen/gonzo/mri_processed_data/sub-01/modeling/resolution32/data.hdf\"\n",
    "domain = read_mesh(data_path)\n",
    "td, Yd = read_function_data(data_path, domain, \"concentration\")\n",
    "td, Y_bdry = read_function_data(data_path, domain, \"boundary_concentration\")\n",
    "g = LinearDataInterpolator(td, Y_bdry)\n",
    "D = 1.3e-4 * df.Identity(domain.topology().dim())\n",
    "\n",
    "T = pint.Quantity(\"1s\")\n",
    "X = pint.Quantity(\"1mm\")\n",
    "timescale = float(pint.Quantity(\"1s\") / T)\n",
    "params = singlecomp_parameters(get_dimless_parameters(T, X))\n",
    "coefficients = remove_units(params)\n",
    "\n",
    "\n",
    "# coefficients = parameters_2d_default()\n",
    "x0 = coeff2vector(coefficients, \"a\", \"r\", \"k\")\n",
    "x1 = 0.9 * x0\n",
    "\n",
    "\n",
    "problem = InverseProblem(data_path, dt=3600, g=g, D=D)\n",
    "# problem.F(x0)"
   ]
  },
  {
   "cell_type": "code",
   "execution_count": 19,
   "id": "79b1309d",
   "metadata": {},
   "outputs": [
    {
     "data": {
      "text/plain": [
       "array([1.20190909e-01, 8.18181818e-06, 1.55454545e-03])"
      ]
     },
     "execution_count": 19,
     "metadata": {},
     "output_type": "execute_result"
    }
   ],
   "source": []
  },
  {
   "cell_type": "markdown",
   "id": "3b5421ec",
   "metadata": {},
   "source": [
    "# Convergence test for gradient"
   ]
  },
  {
   "cell_type": "code",
   "execution_count": 5,
   "id": "305ee119",
   "metadata": {},
   "outputs": [
    {
     "name": "stdout",
     "output_type": "stream",
     "text": [
      "h = 0.1, errornorm = 2.1129553255916287, rel=\n",
      "h = 0.05, errornorm = 0.524997648791058, rel=4.024694835219265\n",
      "h = 0.025, errornorm = 0.13104837305511105, rel=4.006136333873261\n"
     ]
    },
    {
     "ename": "KeyboardInterrupt",
     "evalue": "",
     "output_type": "error",
     "traceback": [
      "\u001b[31m---------------------------------------------------------------------------\u001b[39m",
      "\u001b[31mKeyboardInterrupt\u001b[39m                         Traceback (most recent call last)",
      "\u001b[36mCell\u001b[39m\u001b[36m \u001b[39m\u001b[32mIn[5]\u001b[39m\u001b[32m, line 7\u001b[39m\n\u001b[32m      5\u001b[39m errors = np.nan * np.zeros_like(hs)\n\u001b[32m      6\u001b[39m \u001b[38;5;28;01mfor\u001b[39;00m i, h \u001b[38;5;129;01min\u001b[39;00m \u001b[38;5;28menumerate\u001b[39m(hs):\n\u001b[32m----> \u001b[39m\u001b[32m7\u001b[39m     dF_findiff = \u001b[43mgradient_finite_differences\u001b[49m\u001b[43m(\u001b[49m\u001b[43mproblem\u001b[49m\u001b[43m.\u001b[49m\u001b[43mF\u001b[49m\u001b[43m,\u001b[49m\u001b[43m \u001b[49m\u001b[43mx1\u001b[49m\u001b[43m,\u001b[49m\u001b[43m \u001b[49m\u001b[43mh\u001b[49m\u001b[43m=\u001b[49m\u001b[43mh\u001b[49m\u001b[43m)\u001b[49m\n\u001b[32m      8\u001b[39m     errors[i] = np.linalg.norm(gradF - dF_findiff)\n\u001b[32m      9\u001b[39m     \u001b[38;5;28;01mif\u001b[39;00m i > \u001b[32m0\u001b[39m:\n",
      "\u001b[36mFile \u001b[39m\u001b[32m~/Dropbox/code/glymphopt/src/glymphopt/finite_differences.py:7\u001b[39m, in \u001b[36mgradient_finite_differences\u001b[39m\u001b[34m(F, x, h, **kwargs)\u001b[39m\n\u001b[32m      4\u001b[39m \u001b[38;5;28;01mdef\u001b[39;00m\u001b[38;5;250m \u001b[39m\u001b[34mgradient_finite_differences\u001b[39m(F, x, h, **kwargs):\n\u001b[32m      5\u001b[39m     dx = h * x\n\u001b[32m      6\u001b[39m     \u001b[38;5;28;01mreturn\u001b[39;00m np.array(\n\u001b[32m----> \u001b[39m\u001b[32m7\u001b[39m         \u001b[43m[\u001b[49m\n\u001b[32m      8\u001b[39m \u001b[43m            \u001b[49m\u001b[43m(\u001b[49m\u001b[43mF\u001b[49m\u001b[43m(\u001b[49m\u001b[43mx\u001b[49m\u001b[43m \u001b[49m\u001b[43m+\u001b[49m\u001b[43m \u001b[49m\u001b[43mdx\u001b[49m\u001b[43m[\u001b[49m\u001b[43mi\u001b[49m\u001b[43m]\u001b[49m\u001b[43m \u001b[49m\u001b[43m*\u001b[49m\u001b[43m \u001b[49m\u001b[43mei\u001b[49m\u001b[43m,\u001b[49m\u001b[43m \u001b[49m\u001b[43m*\u001b[49m\u001b[43m*\u001b[49m\u001b[43mkwargs\u001b[49m\u001b[43m)\u001b[49m\u001b[43m \u001b[49m\u001b[43m-\u001b[49m\u001b[43m \u001b[49m\u001b[43mF\u001b[49m\u001b[43m(\u001b[49m\u001b[43mx\u001b[49m\u001b[43m \u001b[49m\u001b[43m-\u001b[49m\u001b[43m \u001b[49m\u001b[43mdx\u001b[49m\u001b[43m[\u001b[49m\u001b[43mi\u001b[49m\u001b[43m]\u001b[49m\u001b[43m \u001b[49m\u001b[43m*\u001b[49m\u001b[43m \u001b[49m\u001b[43mei\u001b[49m\u001b[43m,\u001b[49m\u001b[43m \u001b[49m\u001b[43m*\u001b[49m\u001b[43m*\u001b[49m\u001b[43mkwargs\u001b[49m\u001b[43m)\u001b[49m\u001b[43m)\u001b[49m\u001b[43m \u001b[49m\u001b[43m/\u001b[49m\u001b[43m \u001b[49m\u001b[43m(\u001b[49m\u001b[32;43m2\u001b[39;49m\u001b[43m \u001b[49m\u001b[43m*\u001b[49m\u001b[43m \u001b[49m\u001b[43mdx\u001b[49m\u001b[43m[\u001b[49m\u001b[43mi\u001b[49m\u001b[43m]\u001b[49m\u001b[43m)\u001b[49m\n\u001b[32m      9\u001b[39m \u001b[43m            \u001b[49m\u001b[38;5;28;43;01mfor\u001b[39;49;00m\u001b[43m \u001b[49m\u001b[43mi\u001b[49m\u001b[43m,\u001b[49m\u001b[43m \u001b[49m\u001b[43mei\u001b[49m\u001b[43m \u001b[49m\u001b[38;5;129;43;01min\u001b[39;49;00m\u001b[43m \u001b[49m\u001b[38;5;28;43menumerate\u001b[39;49m\u001b[43m(\u001b[49m\u001b[43mnp\u001b[49m\u001b[43m.\u001b[49m\u001b[43meye\u001b[49m\u001b[43m(\u001b[49m\u001b[38;5;28;43mlen\u001b[39;49m\u001b[43m(\u001b[49m\u001b[43mx\u001b[49m\u001b[43m)\u001b[49m\u001b[43m)\u001b[49m\u001b[43m)\u001b[49m\n\u001b[32m     10\u001b[39m \u001b[43m        \u001b[49m\u001b[43m]\u001b[49m\n\u001b[32m     11\u001b[39m     )\n",
      "\u001b[36mFile \u001b[39m\u001b[32m~/Dropbox/code/glymphopt/src/glymphopt/finite_differences.py:8\u001b[39m, in \u001b[36m<listcomp>\u001b[39m\u001b[34m(.0)\u001b[39m\n\u001b[32m      4\u001b[39m \u001b[38;5;28;01mdef\u001b[39;00m\u001b[38;5;250m \u001b[39m\u001b[34mgradient_finite_differences\u001b[39m(F, x, h, **kwargs):\n\u001b[32m      5\u001b[39m     dx = h * x\n\u001b[32m      6\u001b[39m     \u001b[38;5;28;01mreturn\u001b[39;00m np.array(\n\u001b[32m      7\u001b[39m         [\n\u001b[32m----> \u001b[39m\u001b[32m8\u001b[39m             (F(x + dx[i] * ei, **kwargs) - \u001b[43mF\u001b[49m\u001b[43m(\u001b[49m\u001b[43mx\u001b[49m\u001b[43m \u001b[49m\u001b[43m-\u001b[49m\u001b[43m \u001b[49m\u001b[43mdx\u001b[49m\u001b[43m[\u001b[49m\u001b[43mi\u001b[49m\u001b[43m]\u001b[49m\u001b[43m \u001b[49m\u001b[43m*\u001b[49m\u001b[43m \u001b[49m\u001b[43mei\u001b[49m\u001b[43m,\u001b[49m\u001b[43m \u001b[49m\u001b[43m*\u001b[49m\u001b[43m*\u001b[49m\u001b[43mkwargs\u001b[49m\u001b[43m)\u001b[49m) / (\u001b[32m2\u001b[39m * dx[i])\n\u001b[32m      9\u001b[39m             \u001b[38;5;28;01mfor\u001b[39;00m i, ei \u001b[38;5;129;01min\u001b[39;00m \u001b[38;5;28menumerate\u001b[39m(np.eye(\u001b[38;5;28mlen\u001b[39m(x)))\n\u001b[32m     10\u001b[39m         ]\n\u001b[32m     11\u001b[39m     )\n",
      "\u001b[36mCell\u001b[39m\u001b[36m \u001b[39m\u001b[32mIn[2]\u001b[39m\u001b[32m, line 50\u001b[39m, in \u001b[36mInverseProblem.F\u001b[39m\u001b[34m(self, x)\u001b[39m\n\u001b[32m     49\u001b[39m \u001b[38;5;28;01mdef\u001b[39;00m\u001b[38;5;250m \u001b[39m\u001b[34mF\u001b[39m(\u001b[38;5;28mself\u001b[39m, x):\n\u001b[32m---> \u001b[39m\u001b[32m50\u001b[39m     Y = \u001b[38;5;28;43mself\u001b[39;49m\u001b[43m.\u001b[49m\u001b[43mforward\u001b[49m\u001b[43m(\u001b[49m\u001b[43mx\u001b[49m\u001b[43m)\u001b[49m\n\u001b[32m     51\u001b[39m     Ym = measure(\u001b[38;5;28mself\u001b[39m.timestepper, Y, \u001b[38;5;28mself\u001b[39m.td)\n\u001b[32m     52\u001b[39m     _M_ = bilinear_operator(\u001b[38;5;28mself\u001b[39m.model.M)\n",
      "\u001b[36mCell\u001b[39m\u001b[36m \u001b[39m\u001b[32mIn[2]\u001b[39m\u001b[32m, line 140\u001b[39m, in \u001b[36mInverseProblem.forward\u001b[39m\u001b[34m(self, x)\u001b[39m\n\u001b[32m    138\u001b[39m \u001b[38;5;66;03m#         for n in range(self.timestepper.num_intervals()):\u001b[39;00m\n\u001b[32m    139\u001b[39m         \u001b[38;5;28;01mfor\u001b[39;00m n \u001b[38;5;129;01min\u001b[39;00m \u001b[38;5;28mrange\u001b[39m(\u001b[38;5;28mself\u001b[39m.timestepper.num_intervals()):\n\u001b[32m--> \u001b[39m\u001b[32m140\u001b[39m             \u001b[43msolver\u001b[49m\u001b[43m.\u001b[49m\u001b[43msolve\u001b[49m\u001b[43m(\u001b[49m\u001b[43mY\u001b[49m\u001b[43m[\u001b[49m\u001b[43mn\u001b[49m\u001b[43m+\u001b[49m\u001b[32;43m1\u001b[39;49m\u001b[43m]\u001b[49m\u001b[43m.\u001b[49m\u001b[43mvector\u001b[49m\u001b[43m(\u001b[49m\u001b[43m)\u001b[49m\u001b[43m,\u001b[49m\u001b[43m \u001b[49m\u001b[43mMdot\u001b[49m\u001b[43m(\u001b[49m\u001b[43mY\u001b[49m\u001b[43m[\u001b[49m\u001b[43mn\u001b[49m\u001b[43m]\u001b[49m\u001b[43m.\u001b[49m\u001b[43mvector\u001b[49m\u001b[43m(\u001b[49m\u001b[43m)\u001b[49m\u001b[43m)\u001b[49m\u001b[43m \u001b[49m\u001b[43m+\u001b[49m\u001b[43m \u001b[49m\u001b[43mdt\u001b[49m\u001b[43m \u001b[49m\u001b[43m*\u001b[49m\u001b[43m \u001b[49m\u001b[43mk\u001b[49m\u001b[43m \u001b[49m\u001b[43m*\u001b[49m\u001b[43m \u001b[49m\u001b[43mG\u001b[49m\u001b[43m[\u001b[49m\u001b[43mn\u001b[49m\u001b[43m+\u001b[49m\u001b[32;43m1\u001b[39;49m\u001b[43m]\u001b[49m\u001b[43m)\u001b[49m\n\u001b[32m    141\u001b[39m         \u001b[38;5;28;01mreturn\u001b[39;00m Y\n",
      "\u001b[31mKeyboardInterrupt\u001b[39m: "
     ]
    }
   ],
   "source": [
    "import matplotlib.pyplot as plt\n",
    "gradF = problem.gradF(x1)\n",
    "\n",
    "hs = [0.5**i * 1e-1 for i in range(8)]\n",
    "errors = np.nan * np.zeros_like(hs)\n",
    "for i, h in enumerate(hs):\n",
    "    dF_findiff = gradient_finite_differences(problem.F, x1, h=h)\n",
    "    errors[i] = np.linalg.norm(gradF - dF_findiff)\n",
    "    if i > 0:\n",
    "        print(f\"h = {h}, errornorm = {errors[i]}, rel={errors[i-1]/errors[i]}\")\n",
    "    else:\n",
    "        print(f\"h = {h}, errornorm = {errors[i]}, rel=\")\n",
    "\n",
    "plt.loglog(hs, errors, \"x-\")\n",
    "plt.show()"
   ]
  },
  {
   "cell_type": "markdown",
   "id": "7c81fd78",
   "metadata": {},
   "source": [
    "# Hessians"
   ]
  },
  {
   "cell_type": "code",
   "execution_count": null,
   "id": "a495a884",
   "metadata": {},
   "outputs": [],
   "source": [
    "H = problem.hess(x1)\n",
    "H"
   ]
  },
  {
   "cell_type": "code",
   "execution_count": null,
   "id": "fd347142",
   "metadata": {},
   "outputs": [],
   "source": [
    "H_fd = hessian_finite_differences(problem.F, x1, h=1e-5)\n",
    "H_fd"
   ]
  },
  {
   "cell_type": "code",
   "execution_count": null,
   "id": "bcc4c0d1",
   "metadata": {},
   "outputs": [],
   "source": [
    "(H_fd - H) / H"
   ]
  },
  {
   "cell_type": "code",
   "execution_count": 7,
   "id": "c12ed789",
   "metadata": {},
   "outputs": [
    {
     "data": {
      "text/plain": [
       "array([9.090e+00, 9.000e-04, 1.179e+00])"
      ]
     },
     "execution_count": 7,
     "metadata": {},
     "output_type": "execute_result"
    }
   ],
   "source": [
    "x1"
   ]
  },
  {
   "cell_type": "code",
   "execution_count": null,
   "id": "521dd81c",
   "metadata": {},
   "outputs": [
    {
     "name": "stdout",
     "output_type": "stream",
     "text": [
      "0\t[2.00000399e+00 6.31493247e-06 2.74407363e-03]\t5242.773181692028\t[ 8.03932689e+02 -3.78809260e+08  2.05352212e+05]\t1.0\n",
      "1\t[2.00001766e+00 1.56350568e-05 4.46497052e-03]\t3821.9678487129822\t[ 8.74214642e+02 -1.67092664e+08  8.69271104e+04]\t1.0\n",
      "2\t[2.00005416e+00 2.93071085e-05 6.91982628e-03]\t2884.8812546967897\t[ 7.76663021e+02 -7.36974484e+07  3.76825268e+04]\t1.0\n"
     ]
    }
   ],
   "source": [
    "import time as pytime\n",
    "import scipy.optimize\n",
    "bounds = scipy.optimize.Bounds([1e-1, 0, 0], [np.inf, np.inf, np.inf])\n",
    "x0 = [2.0, 1e-8, 1.5e-3]\n",
    "sol_x = projected_newton_solver(\n",
    "    problem.F,\n",
    "    problem.gradF,\n",
    "    problem.hessp,\n",
    "    bounds=bounds,\n",
    "    x0=x0\n",
    ")\n",
    "toc = pytime.time()\n",
    "sol_x"
   ]
  },
  {
   "cell_type": "code",
   "execution_count": null,
   "id": "cfe959cb",
   "metadata": {},
   "outputs": [],
   "source": []
  }
 ],
 "metadata": {
  "kernelspec": {
   "display_name": "Python 3 (ipykernel)",
   "language": "python",
   "name": "python3"
  },
  "language_info": {
   "codemirror_mode": {
    "name": "ipython",
    "version": 3
   },
   "file_extension": ".py",
   "mimetype": "text/x-python",
   "name": "python",
   "nbconvert_exporter": "python",
   "pygments_lexer": "ipython3",
   "version": "3.11.11"
  }
 },
 "nbformat": 4,
 "nbformat_minor": 5
}
