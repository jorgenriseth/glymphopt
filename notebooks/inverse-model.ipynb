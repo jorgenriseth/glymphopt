{
 "cells": [
  {
   "cell_type": "markdown",
   "id": "f2a3dab1",
   "metadata": {},
   "source": [
    "# Inverse-Model\n",
    "Implementation steps\n",
    "- [x] implement hessian-vector product\n",
    "    - gradient convergence according to Taylor-ish test.\n",
    "    - hessian approximation is close to finite-differences.\n",
    "- [x] implement projected newton solver\n",
    "    - still not tested with optimal values along boundary or outside bounds.\n",
    "- [x] ensure correctness with measurement times not conforming to grid\n",
    "    - measurements according to piecewise constant. Linear interpolation would require more work.\n",
    "- [x] verify functioning model with linear interpolation of boundary concentrations\n",
    "    - Does at least converge to a solution in the 2D case.\n",
    "- [.] extend to full 3d brain with proper data\n",
    "    - struggle with getting convergence right. should return after some performance optimization\n",
    "    - stilll an issue after perfomance optimization. Should look into \n",
    "- [x] performance optimization by caching\n",
    "- [ ] properly implement non-dimensionalization for suitably scaled parameters.\n",
    "- [ ] run full model for all subjects\n",
    "- [ ] enable linear interpolation measurements"
   ]
  },
  {
   "cell_type": "code",
   "execution_count": 18,
   "id": "a9fc35d3",
   "metadata": {},
   "outputs": [],
   "source": [
    "import numpy as np\n",
    "import dolfin as df\n",
    "import tqdm\n",
    "import pint\n",
    "import scipy\n",
    "\n",
    "from dolfin import inner, grad, dot\n",
    "\n",
    "\n",
    "from glymphopt.cache import CacheObject, cache_fetch\n",
    "from glymphopt.coefficientvectors import CoefficientVector\n",
    "from glymphopt.datageneration import BoundaryConcentration\n",
    "from glymphopt.differentiation import gradient_finite_differences, hessian_finite_differences\n",
    "from glymphopt.interpolation import LinearDataInterpolator\n",
    "from glymphopt.io import read_mesh, read_function_data, read_augmented_dti\n",
    "from glymphopt.measure import measure\n",
    "from glymphopt.minimize import projected_newton_solver\n",
    "from glymphopt.operators import (\n",
    "    mass_matrix, boundary_mass_matrix, stiffness_matrix, matrix_operator, bilinear_operator, matmul, zero_vector\n",
    ")\n",
    "from glymphopt.parameters import parameters_2d_default, singlecomp_parameters, get_dimless_parameters, remove_units\n",
    "from glymphopt.scale import create_reduced_problem\n",
    "from glymphopt.timestepper import TimeStepper\n",
    "\n",
    "class Model:\n",
    "    def __init__(self, V, D=None, g=None):\n",
    "        D = D or df.Identity(V.mesh().topology().dim())\n",
    "        \n",
    "        domain = V.mesh()\n",
    "        dx = df.Measure(\"dx\", domain)\n",
    "        ds = df.Measure(\"ds\", domain)\n",
    "        \n",
    "        u, v = df.TrialFunction(V), df.TestFunction(V)\n",
    "        self.M = df.assemble(inner(u, v) * dx)\n",
    "        self.DK = df.assemble(inner(D * grad(u), grad(v)) * dx)\n",
    "        self.S = df.assemble(inner(u, v) * ds)\n",
    "        self.g = g or BoundaryConcentration(V)\n",
    "\n",
    "def gradient_sensitivities(F, x, **kwargs):\n",
    "    return np.array([F(x, ei, **kwargs) for ei in np.eye(len(x))])\n",
    "\n",
    "def measure_interval(n: int, td: np.ndarray, timestepper: TimeStepper):\n",
    "    bins = np.digitize(td, timestepper.vector(), right=True)\n",
    "    return list(np.where(n == bins)[0])\n",
    "\n",
    "class InverseProblem:\n",
    "    def __init__(self, data_path, coefficientvector, dt=3600, timescale=1.0, g=None, D=None, progress=True):\n",
    "        self.silent = not progress\n",
    "        domain = read_mesh(data_path)\n",
    "        self.td, self.Yd = read_function_data(data_path, domain, \"concentration\")\n",
    "        \n",
    "        t_start = self.td[0]\n",
    "        dt = dt * timescale\n",
    "        N = int(np.ceil(np.round((self.td[-1] - t_start) / dt, 12)))\n",
    "        t_end = N * dt\n",
    "        self.timestepper = TimeStepper(dt, (t_start, t_end))\n",
    "        \n",
    "        \n",
    "        coefficients = coefficientvector.coefficients\n",
    "        \n",
    "        self.V = self.Yd[0].function_space()\n",
    "        g = g or BoundaryConcentration(self.V, timescale*3600)\n",
    "        D = D or coefficients[\"D\"] * df.Identity(domain.topology().dim())\n",
    "        self.model = Model(self.V, g=g, D=D)\n",
    "        \n",
    "        \n",
    "        self.cache = {\n",
    "            \"state\": CacheObject(),\n",
    "            \"adjoint\": CacheObject(),\n",
    "            \"g\": CacheObject(),\n",
    "            \"sensitivity\": CacheObject(),\n",
    "            \"operator\": CacheObject(),\n",
    "        }\n",
    "        \n",
    "        _M_ = bilinear_operator(self.model.M)\n",
    "        self.Yd_norms = [_M_(yi.vector(), yi.vector()) for yi in self.Yd]\n",
    "        self.coefficients = coefficientvector\n",
    "\n",
    "        \n",
    "    def F(self, x):\n",
    "        Y = cache_fetch(self.cache[\"state\"], self.forward, {\"x\": x}, x=x)\n",
    "        Ym = measure(self.timestepper, Y, self.td)\n",
    "        _M_ = bilinear_operator(self.model.M)\n",
    "        timepoint_errors = [\n",
    "            _M_(Ym_i.vector() - Yd_i.vector(), Ym_i.vector() - Yd_i.vector()) / norm_i\n",
    "            for Ym_i, Yd_i, norm_i in zip(Ym[1:], self.Yd[1:], self.Yd_norms[1:])\n",
    "        ]\n",
    "        J = 0.5 * sum(timepoint_errors)\n",
    "        return J\n",
    "    \n",
    "    \n",
    "    def forward(self, x):\n",
    "        coefficients = self.coefficients.from_vector(x)\n",
    "        a = coefficients[\"a\"]\n",
    "        r = coefficients[\"r\"]\n",
    "        k = coefficients[\"k\"]\n",
    "        phi = coefficients[\"phi\"]\n",
    "        \n",
    "        timestepper = self.timestepper\n",
    "        dt = timestepper.dt\n",
    "        timepoints = timestepper.vector()\n",
    "        Y = [\n",
    "            df.Function(self.V, name=\"state\") \n",
    "            for _ in range(len(timepoints))\n",
    "        ]\n",
    "        Y[0].assign(self.Yd[0])\n",
    "        \n",
    "        model = self.model\n",
    "        M = model.M\n",
    "        L = a * model.DK + r * model.M + k * model.S\n",
    "        G = cache_fetch(self.cache[\"g\"], self.boundary_vectors, {\"phi\": phi}, phi=phi)\n",
    "        solver = cache_fetch(self.cache[\"operator\"], df.LUSolver, {\"x\": x}, A=M + dt * L)\n",
    "        Mdot = matrix_operator(M)\n",
    "        \n",
    "        N = self.timestepper.num_intervals()\n",
    "        for n in tqdm.tqdm(range(N), total=N, disable=self.silent):\n",
    "            solver.solve(Y[n+1].vector(), Mdot(Y[n].vector()) + dt * k * G[n+1])\n",
    "        return Y\n",
    "    \n",
    "    def boundary_vectors(self, phi):\n",
    "        model = self.model\n",
    "        timestepper = self.timestepper\n",
    "        phi = 0.5\n",
    "        return [ phi * matmul(model.S, model.g(t)) for t in timestepper.vector()]\n",
    "\n",
    "    \n",
    "    def gradF(self, x):\n",
    "        coefficients = self.coefficients.from_vector(x)\n",
    "        phi = coefficients[\"phi\"]\n",
    "        dt = self.timestepper.dt\n",
    "        model = self.model\n",
    "        Y = cache_fetch(self.cache[\"state\"], self.forward, {\"x\": x}, x=x)\n",
    "        Ym = measure(self.timestepper, Y, self.td)\n",
    "        \n",
    "        P = cache_fetch(self.cache[\"adjoint\"], self.adjoint, {\"x\": x}, x=x, Ym=Ym)\n",
    "        G = cache_fetch(self.cache[\"g\"], self.boundary_vectors, {\"phi\": phi}, phi=phi)\n",
    "                                \n",
    "        _M_ = bilinear_operator(model.M)\n",
    "        _DK_ = bilinear_operator(model.DK)\n",
    "        _S_ = bilinear_operator(model.S)\n",
    "        return dt * sum(\n",
    "            np.array([\n",
    "                _DK_(p.vector(), y.vector()),\n",
    "                _M_(p.vector(), y.vector()),\n",
    "                _S_(p.vector(), y.vector()) - p.vector().inner(g),\n",
    "            ])\n",
    "            for y, p, g in zip(Y[1:], P[:-1], G[1:])\n",
    "        )\n",
    "    \n",
    "    def adjoint(self, x, Ym) -> list[df.Function]:\n",
    "        coefficients = self.coefficients.from_vector(x)\n",
    "        a = coefficients[\"a\"]\n",
    "        r = coefficients[\"r\"]\n",
    "        k = coefficients[\"k\"]\n",
    "        \n",
    "        timestepper = self.timestepper\n",
    "        dt = timestepper.dt\n",
    "        timepoints = timestepper.vector()\n",
    "        \n",
    "        model = self.model\n",
    "        M = model.M\n",
    "        L = a * model.DK + r * model.M + k * model.S\n",
    "        solver = cache_fetch(self.cache[\"operator\"], df.LUSolver, {\"x\": x}, A=M + dt * L)\n",
    "        P = [\n",
    "            df.Function(self.V, name=\"adjoint\") \n",
    "            for _ in range(len(timepoints))\n",
    "        ]\n",
    "        Mdot = matrix_operator(M)\n",
    "        num_intervals = timestepper.num_intervals()\n",
    "        for n in tqdm.tqdm(range(num_intervals, 0, -1), total=num_intervals, disable=self.silent):\n",
    "            nj = measure_interval(n, self.td, self.timestepper)\n",
    "            jump = sum((matmul(M, (Ym[j].vector() - Yd[j].vector()) / self.Yd_norms[j]) for j in nj))\n",
    "\n",
    "            solver.solve(\n",
    "                P[n-1].vector(),\n",
    "                Mdot(P[n].vector()) - jump,\n",
    "            )\n",
    "        return P\n",
    "\n",
    "    def dF(self, x, dx):\n",
    "        timestepper = self.timestepper\n",
    "        \n",
    "        Y = cache_fetch(self.cache[\"state\"], self.forward, {\"x\": x}, x=x)\n",
    "        dY = cache_fetch(self.cache[\"sensitivity\"], self.sensitivity, {\"x\": x, \"dx\": dx}, x=x, dx=dx, Y=Y)\n",
    "        Ym = measure(timestepper, Y, self.td)\n",
    "        dYm = measure(timestepper, dY, self.td)\n",
    "        _M_ = bilinear_operator(self.model.M)\n",
    "        return sum([_M_(ym.vector() - yd.vector(), dy.vector()) / norm \n",
    "                    for ym, yd, dy, norm in zip(Ym[1:], self.Yd[1:], dYm[1:], self.Yd_norms[1:])])\n",
    "    \n",
    "    def hess(self, x):\n",
    "        return np.array([\n",
    "            self.hessp(x, ei) for ei in np.eye(len(x))\n",
    "        ])\n",
    "    \n",
    "    def hessp(self, x, dx):\n",
    "        dt = self.timestepper.dt\n",
    "        coefficients = self.coefficients.from_vector(x)\n",
    "        phi = coefficients[\"phi\"]\n",
    "        \n",
    "        Y = cache_fetch(self.cache[\"state\"], self.forward, {\"x\": x}, x=x)\n",
    "        Ym = measure(self.timestepper, Y, self.td)\n",
    "        dY = cache_fetch(self.cache[\"sensitivity\"], self.sensitivity, {\"x\": x, \"dx\": dx}, x=x, dx=dx, Y=Y)\n",
    "        dYm = measure(self.timestepper, dY, self.td)\n",
    "        \n",
    "        P = cache_fetch(self.cache[\"adjoint\"], self.adjoint, {\"x\": x}, x=x, Ym=Ym)\n",
    "        dP = self.second_order_adjoint(x, dx, dYm, P)\n",
    "        \n",
    "        model = self.model\n",
    "        G = cache_fetch(self.cache[\"g\"], self.boundary_vectors, {\"phi\": phi}, phi=phi)\n",
    "        _DK_ = bilinear_operator(model.DK)\n",
    "        _M_ = bilinear_operator(model.M)\n",
    "        _S_ = bilinear_operator(model.S)\n",
    "        return dt * sum(\n",
    "            np.array([\n",
    "                _DK_(dp.vector(), y.vector()) + _DK_(p.vector(), dy.vector()),\n",
    "                _M_(dp.vector(), y.vector()) + _M_(p.vector(), dy.vector()),\n",
    "                _S_(dp.vector(), y.vector()) - dp.vector().inner(g) + _S_(p.vector(), dy.vector()),\n",
    "            ])\n",
    "            for y, dy, p, dp, g in zip(Y[1:], dY[1:], P[:-1], dP[:-1], G[1:])\n",
    "        )\n",
    "\n",
    "\n",
    "    \n",
    "\n",
    "    \n",
    "    def sensitivity(self, x, dx, Y) -> list[df.Function]:\n",
    "        coefficients = self.coefficients.from_vector(x)\n",
    "        a = coefficients[\"a\"]\n",
    "        r = coefficients[\"r\"]\n",
    "        k = coefficients[\"k\"]\n",
    "        dD, dr, dk = dx\n",
    "\n",
    "        timestepper = self.timestepper\n",
    "        dt = timestepper.dt\n",
    "        timepoints = timestepper.vector()\n",
    "        dY = [df.Function(self.V, name=\"sensitivity\") for _ in range(len(timepoints))]\n",
    "\n",
    "        model = self.model\n",
    "        M = model.M\n",
    "        L = a * model.DK + r * model.M + k * model.S\n",
    "        solver = cache_fetch(self.cache[\"operator\"], df.LUSolver, {\"x\": x}, A=M + dt * L)\n",
    "        \n",
    "        dL = dD * model.DK + dr * model.M + dk * model.S\n",
    "        Mdot = matrix_operator(M)\n",
    "        dLdot = matrix_operator(dL)\n",
    "        Sdot = matrix_operator(model.S)\n",
    "        G = [matmul(model.S, model.g(t)) for t in timepoints]\n",
    "        N = self.timestepper.num_intervals()\n",
    "        for n in tqdm.tqdm(range(N), total=N, disable=self.silent):\n",
    "            solver.solve(\n",
    "                dY[n+1].vector(),\n",
    "                Mdot(dY[n].vector()) - dt * dLdot(Y[n+1].vector()) + dt * dk * G[n+1]\n",
    "            )\n",
    "        return dY\n",
    "    \n",
    "    def second_order_adjoint(self, x, dx, dYm, P):\n",
    "        coefficients = self.coefficients.from_vector(x)\n",
    "        a = coefficients[\"a\"]\n",
    "        r = coefficients[\"r\"]\n",
    "        k = coefficients[\"k\"]\n",
    "        dD, dr, dk = dx\n",
    "\n",
    "        timestepper = self.timestepper\n",
    "        dt = timestepper.dt\n",
    "        timepoints = timestepper.vector()\n",
    "        \n",
    "        dP = [df.Function(self.V, name=\"second-order-adjoint\") for _ in range(len(timepoints))]\n",
    "\n",
    "        model = self.model\n",
    "        M = model.M\n",
    "        L = a * model.DK + r * model.M + k * model.S\n",
    "        dL = dD * model.DK + dr * model.M + dk * model.S\n",
    "        solver = cache_fetch(self.cache[\"operator\"], df.LUSolver, {\"x\": x}, A=M + dt * L)\n",
    "\n",
    "        Mdot = matrix_operator(M)\n",
    "        dLdot = matrix_operator(dL)\n",
    "        num_intervals = timestepper.num_intervals()\n",
    "        for n in tqdm.tqdm(range(num_intervals, 0, -1), total=num_intervals, disable=self.silent):\n",
    "            nj = measure_interval(n, self.td, self.timestepper)\n",
    "            jump = sum((matmul(M, dYm[j].vector()) / self.Yd_norms[j] for j in nj))\n",
    "            solver.solve(\n",
    "                dP[n - 1].vector(),\n",
    "                Mdot(dP[n].vector()) - dt * dLdot(P[n-1].vector()) - jump,\n",
    "            )\n",
    "        return dP"
   ]
  },
  {
   "cell_type": "raw",
   "id": "a42bf258",
   "metadata": {},
   "source": [
    "data_path = \"../resources/concentrations.hdf\"\n",
    "domain = read_mesh(data_path)\n",
    "td, Yd = read_function_data(data_path, domain, \"concentration\")\n",
    "td, Y_bdry = read_function_data(data_path, domain, \"boundary_concentration\")\n",
    "coefficients = parameters_2d_default()\n",
    "coeffconverter = CoefficientVector(coefficients, (\"a\", \"r\", \"k\"))\n",
    "\n",
    "# V = df.FunctionSpace()\n",
    "# g = LinearDataInterpolator(td, Y_bdry, valuescale=coefficients[\"phi\"])\n",
    "g = None\n",
    "D = coefficients[\"D_\"] * df.Identity(domain.topology().dim())"
   ]
  },
  {
   "cell_type": "code",
   "execution_count": 19,
   "id": "3a87c9d5",
   "metadata": {},
   "outputs": [],
   "source": [
    "data_path = \"/home/jorgen/gonzo/mri_processed_data/sub-01/modeling/resolution32/data.hdf\"\n",
    "domain = read_mesh(data_path)\n",
    "td, Yd = read_function_data(data_path, domain, \"concentration\")\n",
    "td, Y_bdry = read_function_data(data_path, domain, \"boundary_concentration\")\n",
    "coefficients = parameters_2d_default()\n",
    "coeffconverter = CoefficientVector(coefficients, (\"a\", \"r\", \"k\"))\n",
    "\n",
    "D = read_augmented_dti(data_path)\n",
    "D.vector()[:] *= coefficients[\"rho\"]\n",
    "\n",
    "g = LinearDataInterpolator(td, Y_bdry, valuescale=1.0) # Phi-scaling is in model\n",
    "coefficients = parameters_2d_default()\n",
    "coeffconverter = CoefficientVector(coefficients, (\"a\", \"r\", \"k\"))"
   ]
  },
  {
   "cell_type": "code",
   "execution_count": 20,
   "id": "392e4642",
   "metadata": {},
   "outputs": [],
   "source": [
    "x0 = coeffconverter.to_vector()\n",
    "problem = InverseProblem(data_path, coeffconverter, g=g, D=D, progress=True)"
   ]
  },
  {
   "cell_type": "code",
   "execution_count": 21,
   "id": "55710400",
   "metadata": {},
   "outputs": [
    {
     "name": "stderr",
     "output_type": "stream",
     "text": [
      "100%|███████████████████████████████████████████| 70/70 [00:11<00:00,  6.34it/s]\n"
     ]
    },
    {
     "data": {
      "text/plain": [
       "0.6045958004913192"
      ]
     },
     "execution_count": 21,
     "metadata": {},
     "output_type": "execute_result"
    }
   ],
   "source": [
    "problem.F(x0)"
   ]
  },
  {
   "cell_type": "code",
   "execution_count": 22,
   "id": "16d40849",
   "metadata": {},
   "outputs": [
    {
     "name": "stderr",
     "output_type": "stream",
     "text": [
      "100%|███████████████████████████████████████████| 70/70 [00:11<00:00,  6.30it/s]\n"
     ]
    }
   ],
   "source": [
    "import pantarei as pr\n",
    "\n",
    "x_opt = np.array([2.645, 0.0, 2.615])\n",
    "Y = problem.forward(x_opt)\n",
    "Ym = measure(problem.timestepper, Y, td)\n",
    "with df.HDF5File(domain.mpi_comm(), \"../results/optimal.hdf\", \"w\") as hdf:\n",
    "    for tdi, ymi in zip(td, Ym):\n",
    "        if tdi == 0:\n",
    "            pr.write_function(hdf, ymi, \"total_concentration\")\n",
    "        else:\n",
    "            pr.write_checkpoint(hdf, ymi, \"total_concentration\", t=tdi)\n",
    "\n",
    "with df.XDMFFile(domain.mpi_comm(), \"../results/optimal.xdmf\") as xdmf:\n",
    "    for ti, yi in zip(problem.timestepper.vector(), Y):\n",
    "        xdmf.write(yi, t=ti)"
   ]
  },
  {
   "cell_type": "code",
   "execution_count": 11,
   "id": "4b8f484c",
   "metadata": {},
   "outputs": [
    {
     "name": "stderr",
     "output_type": "stream",
     "text": [
      "100%|███████████████████████████████████████████| 70/70 [00:08<00:00,  8.06it/s]\n"
     ]
    }
   ],
   "source": [
    "x_opt = np.array([2.645, 0.0, 2.615])\n",
    "Y = problem.forward(x_opt)\n",
    "Ym = measure(problem.timestepper, Y, td)\n",
    "with df.HDF5File(domain.mpi_comm(), \"../results/optimal.hdf\", \"w\") as hdf:\n",
    "    for tdi, ymi in zip(td, Ym):\n",
    "        if tdi == 0:\n",
    "            pr.write_function(hdf, ymi, \"total_concentration\")\n",
    "        else:\n",
    "            pr.write_checkpoint(hdf, ymi, \"total_concentration\", t=tdi)\n",
    "\n",
    "with df.XDMFFile(domain.mpi_comm(), \"../results/optimal.xdmf\") as xdmf:\n",
    "    for ti, yi in zip(problem.timestepper.vector(), Y):\n",
    "        xdmf.write(yi, t=ti)"
   ]
  },
  {
   "cell_type": "markdown",
   "id": "3b5421ec",
   "metadata": {},
   "source": [
    "# Convergence tests for gradient and hessian\n",
    "**TODO:** Something fishy about the Hessian, with convergence order 2 rather than the expected 3. When running for the reduced problems, the issue seem related to the thirds argument, i.e. the conductivity $k$."
   ]
  },
  {
   "cell_type": "code",
   "execution_count": 12,
   "id": "464fa44a",
   "metadata": {},
   "outputs": [
    {
     "name": "stdout",
     "output_type": "stream",
     "text": [
      "Taylor Test for the Gradient:\n",
      "-----------------------------\n",
      "       h               Error    Error Ratio\n",
      "-------------------------------------------\n",
      "1.00e-01        2.893148e-05              -\n",
      "5.00e-02        7.249370e-06           3.99\n",
      "2.50e-02        1.814418e-06           4.00\n",
      "1.25e-02        4.538646e-07           4.00\n",
      "6.25e-03        1.134987e-07           4.00\n",
      "3.13e-03        2.837875e-08           4.00\n",
      "\n",
      "Taylor Test for the Hessian:\n",
      "----------------------------\n",
      "       h               Error    Error Ratio\n",
      "-------------------------------------------\n",
      "1.00e-01        1.325335e-07              -\n",
      "5.00e-02        1.663370e-08           7.97\n",
      "2.50e-02        2.083433e-09           7.98\n",
      "1.25e-02        2.606933e-10           7.99\n",
      "6.25e-03        3.260325e-11           8.00\n"
     ]
    }
   ],
   "source": [
    "from glymphopt.taylor import test_gradient, test_hessian\n",
    "\n",
    "x1 = 0.95 * coeffconverter.to_vector()\n",
    "problem.silent = True\n",
    "test_gradient(problem.F, problem.gradF, x1, p=x1 * 0.1)\n",
    "test_hessian(problem.F, problem.gradF, problem.hessp, x1, p=x1 * 0.1)\n",
    "problem.silent = False"
   ]
  },
  {
   "cell_type": "markdown",
   "id": "cd633e03",
   "metadata": {},
   "source": [
    "## Reduced Problem"
   ]
  },
  {
   "cell_type": "code",
   "execution_count": 13,
   "id": "bd812041",
   "metadata": {
    "scrolled": true
   },
   "outputs": [
    {
     "name": "stderr",
     "output_type": "stream",
     "text": [
      "/tmp/ipykernel_6117/2138169130.py:11: RuntimeWarning: Method L-BFGS-B does not use Hessian information (hess).\n",
      "  sol_diffusion = scipy.optimize.minimize(\n",
      "/tmp/ipykernel_6117/2138169130.py:11: OptimizeWarning: Unknown solver options: verbose\n",
      "  sol_diffusion = scipy.optimize.minimize(\n"
     ]
    }
   ],
   "source": [
    "a_ref = 1.0\n",
    "r_ref = 1e-6\n",
    "k_ref = coeffconverter.coefficients[\"k\"]\n",
    "\n",
    "diffusion_problem = create_reduced_problem(problem, np.array([a_ref, 0.0, k_ref]), [0])\n",
    "diffusion_bounds = scipy.optimize.Bounds(\n",
    "    [0.1], [10.0]\n",
    ")\n",
    "y0 = np.array([2.8])\n",
    "diffusion_problem.problem.silent = True\n",
    "sol_diffusion = scipy.optimize.minimize(\n",
    "    diffusion_problem.F,\n",
    "    x0=y0,\n",
    "    method=\"L-BFGS-B\",\n",
    "    jac=diffusion_problem.gradF,\n",
    "    hess=diffusion_problem.hess,\n",
    "    bounds=diffusion_bounds,\n",
    "    options={\n",
    "        \"verbose\": 3,\n",
    "    }\n",
    ")"
   ]
  },
  {
   "cell_type": "code",
   "execution_count": 14,
   "id": "dd78ed43",
   "metadata": {},
   "outputs": [
    {
     "ename": "NameError",
     "evalue": "name 'results_to_dict' is not defined",
     "output_type": "error",
     "traceback": [
      "\u001b[31m---------------------------------------------------------------------------\u001b[39m",
      "\u001b[31mNameError\u001b[39m                                 Traceback (most recent call last)",
      "\u001b[36mCell\u001b[39m\u001b[36m \u001b[39m\u001b[32mIn[14]\u001b[39m\u001b[32m, line 1\u001b[39m\n\u001b[32m----> \u001b[39m\u001b[32m1\u001b[39m \u001b[43mresults_to_dict\u001b[49m\n",
      "\u001b[31mNameError\u001b[39m: name 'results_to_dict' is not defined"
     ]
    }
   ],
   "source": [
    "results_to_dict"
   ]
  },
  {
   "cell_type": "code",
   "execution_count": null,
   "id": "57aa02bf",
   "metadata": {},
   "outputs": [],
   "source": [
    "sol_diffusion.fun"
   ]
  },
  {
   "cell_type": "code",
   "execution_count": null,
   "id": "653ee92e",
   "metadata": {},
   "outputs": [],
   "source": [
    "a_ref = 1.0\n",
    "r_ref = 1e-6\n",
    "k_ref = coeffconverter.coefficients[\"k\"]\n",
    "\n",
    "diffusion_reaction_problem = create_reduced_problem(problem, np.array([a_ref, r_ref, k_ref]), [0, 1])\n",
    "diffusion_reaction_bounds = scipy.optimize.Bounds(\n",
    "    [0.1, 0.0], [10.0, 100.0]\n",
    ")\n",
    "y0 = np.array([*sol_diffusion.x, 0.0])\n",
    "diffusion_reaction_problem.problem.silent = True\n",
    "sol_diffusion_reaction = scipy.optimize.minimize(\n",
    "    diffusion_reaction_problem.F,\n",
    "    x0=y0,\n",
    "    method=\"L-BFGS-B\",\n",
    "    jac=diffusion_reaction_problem.gradF,\n",
    "    hess=diffusion_reaction_problem.hess,\n",
    "    bounds=diffusion_reaction_bounds,\n",
    "    options={\n",
    "        \"verbose\": 3,\n",
    "    }\n",
    ")\n",
    "# sol_diffusion_reaction = projected_newton_solver(\n",
    "#     diffusion_reaction_problem.F,\n",
    "#     diffusion_reaction_problem.gradF,\n",
    "#     diffusion_reaction_problem.hessp,\n",
    "#     bounds=diffusion_reaction_bounds,\n",
    "#     x0=y0,\n",
    "#     inner_tol=1e-8,\n",
    "#     tol=1e-8,\n",
    "#     verbose=True,\n",
    "# )\n",
    "sol_diffusion_reaction"
   ]
  },
  {
   "cell_type": "code",
   "execution_count": null,
   "id": "b11ad0d8",
   "metadata": {},
   "outputs": [],
   "source": [
    "a_ref = 1.0\n",
    "r_ref = 1e-6\n",
    "k_ref = coeffconverter.coefficients[\"k\"]\n",
    "\n",
    "scaled_problem = create_reduced_problem(problem, np.array([a_ref, r_ref, k_ref]), [0, 1, 2])\n",
    "scaled_bounds = scipy.optimize.Bounds(\n",
    "    [0.1, 0.0, 0.0], [10.0, 100.0, 1000.0]\n",
    ")\n",
    "y0 = np.array([*sol_diffusion_reaction.x, 100.0])\n",
    "scaled_problem.problem.silent = True\n",
    "# scaled_solution = projected_newton_solver(\n",
    "#     scaled_problem.F,\n",
    "#     scaled_problem.gradF,\n",
    "#     scaled_problem.hessp,\n",
    "#     bounds=scaled_bounds,\n",
    "#     x0=y0,\n",
    "#     inner_tol=1e-8,\n",
    "#     tol=1e-8,\n",
    "#     verbose=True,\n",
    "# )\n",
    "scaled_solution = scipy.optimize.minimize(\n",
    "    scaled_problem.F,\n",
    "    x0=y0,\n",
    "    method=\"L-BFGS-B\",\n",
    "    jac=scaled_problem.gradF,\n",
    "    hess=scaled_problem.hess,\n",
    "    bounds=scaled_bounds,\n",
    "    callback=print_callback\n",
    "#     options={\n",
    "#         \"verbose\": 3,\n",
    "#         \"initial_barrier_parameter\": 1e-6,\n",
    "#     }\n",
    ")\n",
    "scaled_solution"
   ]
  },
  {
   "cell_type": "code",
   "execution_count": 28,
   "id": "627102d7",
   "metadata": {},
   "outputs": [],
   "source": [
    "def print_callback(intermediate_result):\n",
    "    print(\"-\"*60)\n",
    "    print(intermediate_result)\n",
    "\n",
    "def iterative_subproblem_optimization(problem, coeffconverter):\n",
    "    print(\"Solving diffusion only minimization problem.\")\n",
    "    a_ref = 1.0\n",
    "    r_ref = 1e-6\n",
    "    k_ref = coeffconverter.coefficients[\"k\"]\n",
    "    k_ref = 1e0\n",
    "    diffusion_problem = create_reduced_problem(\n",
    "        problem, np.array([a_ref, 0.0, k_ref]), [0]\n",
    "    )\n",
    "    diffusion_bounds = scipy.optimize.Bounds([0.1], [10.0])\n",
    "    y0 = np.array([2.8])\n",
    "    diffusion_problem.problem.silent = True\n",
    "    sol_diffusion = scipy.optimize.minimize(\n",
    "        diffusion_problem.F,\n",
    "        x0=y0,\n",
    "        method=\"L-BFGS-B\",\n",
    "        jac=diffusion_problem.gradF,\n",
    "        hess=diffusion_problem.hess,\n",
    "        bounds=diffusion_bounds,\n",
    "        callback=print_callback,\n",
    "    )\n",
    "\n",
    "    print(\"Solving diffusion-reaction reduced minimization problem.\")\n",
    "    a_ref = 1.0\n",
    "    r_ref = 1e-6\n",
    "    k_ref = coeffconverter.coefficients[\"k\"]\n",
    "    k_ref = 1e0\n",
    "    diffusion_reaction_problem = create_reduced_problem(\n",
    "        problem, np.array([a_ref, r_ref, k_ref]), [0, 1]\n",
    "    )\n",
    "    diffusion_reaction_bounds = scipy.optimize.Bounds([0.1, 0.0], [10.0, 100.0])\n",
    "    y0 = np.array([*sol_diffusion.x, 0.0])\n",
    "    diffusion_reaction_problem.problem.silent = True\n",
    "    sol_diffusion_reaction = scipy.optimize.minimize(\n",
    "        diffusion_reaction_problem.F,\n",
    "        x0=y0,\n",
    "        method=\"L-BFGS-B\",\n",
    "        jac=diffusion_reaction_problem.gradF,\n",
    "        hess=diffusion_reaction_problem.hess,\n",
    "        bounds=diffusion_reaction_bounds,\n",
    "        callback=print_callback,\n",
    "    )\n",
    "\n",
    "    a_ref = 1.0\n",
    "    r_ref = 1e-6\n",
    "    k_ref = coeffconverter.coefficients[\"k\"]\n",
    "    k_ref = 1e0\n",
    "\n",
    "    scaled_problem = create_reduced_problem(\n",
    "        problem, np.array([a_ref, r_ref, k_ref]), [0, 1, 2]\n",
    "    )\n",
    "    scaled_bounds = scipy.optimize.Bounds([0.1, 0.0, 0.0], [10.0, 100.0, 100.0])\n",
    "    y0 = np.array([*sol_diffusion_reaction.x, 1.0])\n",
    "    scaled_problem.problem.silent = True\n",
    "    scaled_solution = scipy.optimize.minimize(\n",
    "        scaled_problem.F,\n",
    "        x0=y0,\n",
    "        method=\"L-BFGS-B\",\n",
    "        jac=scaled_problem.gradF,\n",
    "        bounds=scaled_bounds,\n",
    "        callback=print_callback,\n",
    "    )\n",
    "    print(scaled_solution)\n",
    "    results_dict = {\n",
    "        \"fun\": scaled_solution.fun,\n",
    "        \"x\": scaled_problem.transform(scaled_solution.x).tolist(),\n",
    "        \"success\": scaled_solution.success,\n",
    "    }\n",
    "    return results_dict"
   ]
  },
  {
   "cell_type": "code",
   "execution_count": 29,
   "id": "e05c553a",
   "metadata": {},
   "outputs": [
    {
     "name": "stdout",
     "output_type": "stream",
     "text": [
      "Solving diffusion only minimization problem.\n"
     ]
    },
    {
     "name": "stderr",
     "output_type": "stream",
     "text": [
      "/tmp/ipykernel_6117/1178124190.py:17: RuntimeWarning: Method L-BFGS-B does not use Hessian information (hess).\n",
      "  sol_diffusion = scipy.optimize.minimize(\n"
     ]
    },
    {
     "name": "stdout",
     "output_type": "stream",
     "text": [
      "------------------------------------------------------------\n",
      " fun: 0.7120016445990719\n",
      "   x: [ 2.714e+00]\n",
      "------------------------------------------------------------\n",
      " fun: 0.560771541292737\n",
      "   x: [ 8.841e-01]\n",
      "------------------------------------------------------------\n",
      " fun: 0.5602503051374628\n",
      "   x: [ 8.257e-01]\n",
      "------------------------------------------------------------\n",
      " fun: 0.5602495008419851\n",
      "   x: [ 8.232e-01]\n",
      "------------------------------------------------------------\n",
      " fun: 0.5602494940284514\n",
      "   x: [ 8.234e-01]\n",
      "Solving diffusion-reaction reduced minimization problem.\n"
     ]
    },
    {
     "name": "stderr",
     "output_type": "stream",
     "text": [
      "/tmp/ipykernel_6117/1178124190.py:38: RuntimeWarning: Method L-BFGS-B does not use Hessian information (hess).\n",
      "  sol_diffusion_reaction = scipy.optimize.minimize(\n"
     ]
    },
    {
     "name": "stdout",
     "output_type": "stream",
     "text": [
      "------------------------------------------------------------\n",
      " fun: 0.5580991056641232\n",
      "   x: [ 8.234e-01  4.658e-02]\n",
      "------------------------------------------------------------\n",
      " fun: 0.5377191990405499\n",
      "   x: [ 2.009e+00  3.367e+00]\n",
      "------------------------------------------------------------\n",
      " fun: 0.46278655908180144\n",
      "   x: [ 1.120e+00  4.884e+00]\n",
      "------------------------------------------------------------\n",
      " fun: 0.46153623622887996\n",
      "   x: [ 1.003e+00  5.460e+00]\n",
      "------------------------------------------------------------\n",
      " fun: 0.4593435034964057\n",
      "   x: [ 1.117e+00  6.008e+00]\n",
      "------------------------------------------------------------\n",
      " fun: 0.4589120303963924\n",
      "   x: [ 1.161e+00  6.481e+00]\n",
      "------------------------------------------------------------\n",
      " fun: 0.45887775897420086\n",
      "   x: [ 1.173e+00  6.649e+00]\n",
      "------------------------------------------------------------\n",
      " fun: 0.4588771621446295\n",
      "   x: [ 1.173e+00  6.673e+00]\n",
      "------------------------------------------------------------\n",
      " fun: 0.45887715577820104\n",
      "   x: [ 1.173e+00  6.674e+00]\n",
      "  message: CONVERGENCE: NORM OF PROJECTED GRADIENT <= PGTOL\n",
      "  success: True\n",
      "   status: 0\n",
      "      fun: 0.45887715577820104\n",
      "        x: [ 1.173e+00  6.674e+00  1.000e+00]\n",
      "      nit: 0\n",
      "      jac: [ 9.782e-06 -3.979e-07 -1.540e-06]\n",
      "     nfev: 1\n",
      "     njev: 1\n",
      " hess_inv: <3x3 LbfgsInvHessProduct with dtype=float64>\n"
     ]
    }
   ],
   "source": [
    "iterative_solution = iterative_subproblem_optimization(problem, coeffconverter)"
   ]
  },
  {
   "cell_type": "code",
   "execution_count": 26,
   "id": "4015664e",
   "metadata": {},
   "outputs": [
    {
     "data": {
      "text/plain": [
       "  message: CONVERGENCE: NORM OF PROJECTED GRADIENT <= PGTOL\n",
       "  success: True\n",
       "   status: 0\n",
       "      fun: 0.45574469005837376\n",
       "        x: [ 1.443e+00  6.889e+00  5.367e-01]\n",
       "      nit: 12\n",
       "      jac: [-1.682e-07  3.475e-07 -1.079e-06]\n",
       "     nfev: 14\n",
       "     njev: 14\n",
       " hess_inv: <3x3 LbfgsInvHessProduct with dtype=float64>"
      ]
     },
     "execution_count": 26,
     "metadata": {},
     "output_type": "execute_result"
    }
   ],
   "source": [
    "iterative_solution"
   ]
  },
  {
   "cell_type": "code",
   "execution_count": 25,
   "id": "1e6ee571",
   "metadata": {},
   "outputs": [
    {
     "data": {
      "text/plain": [
       "  message: CONVERGENCE: NORM OF PROJECTED GRADIENT <= PGTOL\n",
       "  success: True\n",
       "   status: 0\n",
       "      fun: 0.45574469005837376\n",
       "        x: [ 1.443e+00  6.889e+00  5.367e-01]\n",
       "      nit: 12\n",
       "      jac: [-1.682e-07  3.475e-07 -1.079e-06]\n",
       "     nfev: 14\n",
       "     njev: 14\n",
       " hess_inv: <3x3 LbfgsInvHessProduct with dtype=float64>"
      ]
     },
     "execution_count": 25,
     "metadata": {},
     "output_type": "execute_result"
    }
   ],
   "source": [
    "iterative_solution"
   ]
  },
  {
   "cell_type": "code",
   "execution_count": 47,
   "id": "54b664ad",
   "metadata": {},
   "outputs": [
    {
     "data": {
      "text/plain": [
       "  message: CONVERGENCE: NORM OF PROJECTED GRADIENT <= PGTOL\n",
       "  success: True\n",
       "   status: 0\n",
       "      fun: 0.6803903507751387\n",
       "        x: [ 2.646e+00  0.000e+00  5.000e+02]\n",
       "      nit: 4\n",
       "      jac: [ 3.944e-06  1.162e-02 -1.151e-07]\n",
       "     nfev: 5\n",
       "     njev: 5\n",
       " hess_inv: <3x3 LbfgsInvHessProduct with dtype=float64>"
      ]
     },
     "execution_count": 47,
     "metadata": {},
     "output_type": "execute_result"
    }
   ],
   "source": [
    "sol_scaled"
   ]
  },
  {
   "cell_type": "code",
   "execution_count": 42,
   "id": "9a154e17",
   "metadata": {},
   "outputs": [],
   "source": []
  },
  {
   "cell_type": "code",
   "execution_count": 107,
   "id": "e0a236bb",
   "metadata": {},
   "outputs": [
    {
     "name": "stdout",
     "output_type": "stream",
     "text": [
      "| niter |f evals|CG iter|  obj func   |tr radius |   opt    |  c viol  | penalty  |barrier param|CG stop|\n",
      "|-------|-------|-------|-------------|----------|----------|----------|----------|-------------|-------|\n",
      "|   1   |   1   |   0   | +7.5743e-01 | 1.00e+00 | 3.26e-01 | 0.00e+00 | 1.00e+00 |  1.00e-01   |   0   |\n",
      "|   2   |   2   |   1   | +7.1387e-01 | 5.65e+00 | 3.82e-02 | 0.00e+00 | 1.00e+00 |  1.00e-01   |   1   |\n",
      "|   3   |   3   |   2   | +6.9691e-01 | 5.65e+00 | 3.12e-02 | 0.00e+00 | 1.00e+00 |  1.00e-01   |   1   |\n",
      "|   4   |   3   |   2   | +6.9691e-01 | 2.83e+01 | 1.15e-02 | 0.00e+00 | 1.00e+00 |  2.00e-02   |   0   |\n",
      "|   5   |   4   |   3   | +6.9494e-01 | 2.83e+01 | 4.54e-03 | 0.00e+00 | 1.00e+00 |  2.00e-02   |   1   |\n",
      "|   6   |   4   |   3   | +6.9494e-01 | 1.41e+02 | 8.43e-04 | 0.00e+00 | 1.00e+00 |  4.00e-03   |   0   |\n",
      "|   7   |   4   |   3   | +6.9494e-01 | 7.07e+02 | 1.02e-04 | 0.00e+00 | 1.00e+00 |  8.00e-04   |   0   |\n",
      "|   8   |   4   |   3   | +6.9494e-01 | 3.53e+03 | 4.59e-05 | 0.00e+00 | 1.00e+00 |  1.60e-04   |   0   |\n",
      "|   9   |   4   |   3   | +6.9494e-01 | 1.77e+04 | 7.56e-05 | 0.00e+00 | 1.00e+00 |  3.20e-05   |   0   |\n",
      "|  10   |   5   |   4   | +6.9494e-01 | 1.77e+04 | 2.37e-07 | 0.00e+00 | 1.00e+00 |  3.20e-05   |   1   |\n",
      "|  11   |   5   |   4   | +6.9494e-01 | 8.84e+04 | 5.70e-06 | 0.00e+00 | 1.00e+00 |  6.40e-06   |   0   |\n",
      "|  12   |   6   |   5   | +6.9494e-01 | 8.84e+04 | 1.38e-09 | 0.00e+00 | 1.00e+00 |  6.40e-06   |   1   |\n",
      "\n",
      "`gtol` termination condition is satisfied.\n",
      "Number of iterations: 12, function evaluations: 6, CG iterations: 5, optimality: 1.38e-09, constraint violation: 0.00e+00, execution time: 1.9e+02 s.\n"
     ]
    }
   ],
   "source": [
    "a = coeffconverter.coefficients[\"a\"]\n",
    "r = 0.0\n",
    "k = coeffconverter.coefficients[\"k\"]\n",
    "\n",
    "reduced_problem = create_reduced_problem(problem, np.array([a, r, k]), [0])\n",
    "reduced_bounds = scipy.optimize.Bounds(\n",
    "    [0.1 / a],\n",
    "    [10.0 / a],\n",
    ")\n",
    "reduced_problem.problem.silent = True\n",
    "y0 = np.array([1.0 / a])\n",
    "sol_x = scipy.optimize.minimize(\n",
    "    reduced_problem.F,\n",
    "    x0=y0,\n",
    "    method=\"trust-constr\",\n",
    "    jac=reduced_problem.gradF,\n",
    "    hess=reduced_problem.hess,\n",
    "    bounds=reduced_bounds,\n",
    "    options={\n",
    "        \"verbose\": 3,\n",
    "    }\n",
    ")"
   ]
  },
  {
   "cell_type": "code",
   "execution_count": 112,
   "id": "e1bd4fb6",
   "metadata": {},
   "outputs": [
    {
     "data": {
      "text/plain": [
       "array([2.8820098])"
      ]
     },
     "execution_count": 112,
     "metadata": {},
     "output_type": "execute_result"
    }
   ],
   "source": [
    "a * sol_x.x"
   ]
  },
  {
   "cell_type": "code",
   "execution_count": 114,
   "id": "56d4340d",
   "metadata": {},
   "outputs": [
    {
     "name": "stdout",
     "output_type": "stream",
     "text": [
      "Iter                              x     Objective    Proj. Grad Norm\n",
      "----------------------------------------------------------------------\n",
      "   0                    [2.000e-01]  7.574290e-01       6.341214e-01\n",
      "   1                    [2.979e-01]  7.175165e-01       2.467230e-01\n",
      "   2                    [4.050e-01]  7.009106e-01       8.771144e-02\n",
      "   3                    [5.009e-01]  6.958287e-01       2.575935e-02\n",
      "   4                    [5.592e-01]  6.949827e-01       4.713737e-03\n",
      "   5                    [5.754e-01]  6.949431e-01       2.573218e-04\n",
      "   6                    [5.764e-01]  6.949430e-01       8.853712e-07\n"
     ]
    },
    {
     "data": {
      "text/plain": [
       "  message: Convergence: Projected gradient norm below tolerance.\n",
       "  success: True\n",
       "      fun: 0.6949430076393829\n",
       "        x: [ 5.764e-01]\n",
       "      nit: 6\n",
       "     nfev: 7\n",
       "     njev: 7\n",
       "     nhev: 12\n",
       "      jac: [-8.854e-07]\n",
       " walltime: 326.730055809021"
      ]
     },
     "execution_count": 114,
     "metadata": {},
     "output_type": "execute_result"
    }
   ],
   "source": [
    "sol_x = projected_newton_solver(\n",
    "    reduced_problem.F,\n",
    "    reduced_problem.gradF,\n",
    "    reduced_problem.hessp,\n",
    "    bounds=reduced_bounds,\n",
    "    x0=y0,\n",
    "    inner_tol=1e-8,\n",
    "    verbose=True,\n",
    ")\n",
    "sol_x"
   ]
  },
  {
   "cell_type": "code",
   "execution_count": null,
   "id": "1a38becc",
   "metadata": {},
   "outputs": [],
   "source": []
  },
  {
   "cell_type": "code",
   "execution_count": 116,
   "id": "b96fb030",
   "metadata": {},
   "outputs": [
    {
     "data": {
      "text/plain": [
       "array([2.88185718])"
      ]
     },
     "execution_count": 116,
     "metadata": {},
     "output_type": "execute_result"
    }
   ],
   "source": [
    "a * sol_x.x"
   ]
  },
  {
   "cell_type": "code",
   "execution_count": 120,
   "id": "a4779a95",
   "metadata": {},
   "outputs": [
    {
     "name": "stdout",
     "output_type": "stream",
     "text": [
      "| niter |f evals|CG iter|  obj func   |tr radius |   opt    |  c viol  | penalty  |barrier param|CG stop|\n",
      "|-------|-------|-------|-------------|----------|----------|----------|----------|-------------|-------|\n",
      "|   1   |   1   |   0   | +7.5522e-01 | 1.00e+00 | 4.61e-02 | 8.82e-01 | 1.00e+00 |  1.00e-01   |   0   |\n",
      "|   2   |   2   |   1   | +7.5844e-01 | 7.00e+00 | 3.93e-02 | 1.33e-01 | 1.00e+00 |  1.00e-01   |   2   |\n",
      "|   3   |   3   |   2   | +8.3102e-01 | 1.42e+01 | 4.98e-02 | 0.00e+00 | 1.00e+00 |  1.00e-01   |   4   |\n",
      "|   4   |   4   |   3   | +7.9926e-01 | 1.42e+01 | 5.50e-03 | 0.00e+00 | 1.00e+00 |  1.00e-01   |   4   |\n",
      "|   5   |   4   |   3   | +7.9926e-01 | 7.11e+01 | 3.31e-02 | 0.00e+00 | 1.00e+00 |  2.00e-02   |   0   |\n",
      "|   6   |   5   |   5   | +7.9926e-01 | 7.11e+00 | 3.31e-02 | 0.00e+00 | 1.00e+00 |  2.00e-02   |   1   |\n",
      "|   7   |   6   |   7   | +7.9926e-01 | 7.11e-01 | 3.31e-02 | 0.00e+00 | 1.00e+00 |  2.00e-02   |   2   |\n",
      "|   8   |   7   |   8   | +7.6097e-01 | 4.97e+00 | 1.41e-02 | 0.00e+00 | 1.00e+00 |  2.00e-02   |   2   |\n",
      "|   9   |   8   |  10   | +7.6097e-01 | 4.97e-01 | 1.41e-02 | 0.00e+00 | 1.00e+00 |  2.00e-02   |   1   |\n",
      "|  10   |   9   |  11   | +7.4049e-01 | 3.48e+00 | 5.86e-03 | 0.00e+00 | 1.00e+00 |  2.00e-02   |   2   |\n",
      "|  11   |   9   |  11   | +7.4049e-01 | 1.74e+01 | 9.56e-03 | 0.00e+00 | 1.00e+00 |  4.00e-03   |   0   |\n",
      "|  12   |  10   |  13   | +7.0377e-01 | 1.74e+01 | 1.08e-02 | 0.00e+00 | 1.00e+00 |  4.00e-03   |   1   |\n",
      "|  13   |  11   |  14   | +7.0377e-01 | 1.74e+00 | 1.08e-02 | 0.00e+00 | 1.00e+00 |  4.00e-03   |   4   |\n",
      "|  14   |  11   |  15   | +7.0377e-01 | 1.74e-01 | 1.08e-02 | 0.00e+00 | 1.00e+00 |  4.00e-03   |   4   |\n",
      "|  15   |  12   |  16   | +7.0059e-01 | 1.22e+00 | 9.27e-03 | 0.00e+00 | 1.00e+00 |  4.00e-03   |   2   |\n",
      "|  16   |  14   |  17   | +7.0059e-01 | 4.42e-01 | 9.27e-03 | 0.00e+00 | 1.00e+00 |  4.00e-03   |   4   |\n",
      "|  17   |  15   |  18   | +6.9531e-01 | 8.83e-01 | 5.31e-04 | 0.00e+00 | 1.00e+00 |  4.00e-03   |   2   |\n",
      "|  18   |  15   |  18   | +6.9531e-01 | 4.42e+00 | 1.25e-03 | 0.00e+00 | 1.00e+00 |  8.00e-04   |   0   |\n",
      "|  19   |  16   |  19   | +6.9522e-01 | 4.42e+00 | 1.25e-04 | 0.00e+00 | 1.00e+00 |  8.00e-04   |   4   |\n",
      "|  20   |  16   |  19   | +6.9522e-01 | 2.21e+01 | 2.28e-05 | 0.00e+00 | 1.00e+00 |  1.60e-04   |   0   |\n",
      "|  21   |  16   |  19   | +6.9522e-01 | 1.10e+02 | 5.24e-05 | 0.00e+00 | 1.00e+00 |  3.20e-05   |   0   |\n",
      "|  22   |  17   |  21   | +6.9497e-01 | 1.10e+02 | 4.26e-07 | 0.00e+00 | 1.00e+00 |  3.20e-05   |   1   |\n",
      "|  23   |  17   |  21   | +6.9497e-01 | 5.52e+02 | 5.51e-06 | 0.00e+00 | 1.00e+00 |  6.40e-06   |   0   |\n",
      "|  24   |  18   |  23   | +6.9495e-01 | 5.52e+02 | 4.58e-09 | 0.00e+00 | 1.00e+00 |  6.40e-06   |   1   |\n",
      "\n",
      "`gtol` termination condition is satisfied.\n",
      "Number of iterations: 24, function evaluations: 18, CG iterations: 23, optimality: 4.58e-09, constraint violation: 0.00e+00, execution time: 7e+02 s.\n"
     ]
    }
   ],
   "source": [
    "a = coeffconverter.coefficients[\"a\"]\n",
    "r = coeffconverter.coefficients[\"r\"]\n",
    "k = coeffconverter.coefficients[\"k\"]\n",
    "\n",
    "y0 = np.array([*sol.x, 0.0])\n",
    "\n",
    "second_reduced_problem = create_reduced_problem(problem, np.array([a, r, k]), [0, 1])\n",
    "second_reduced_bounds = scipy.optimize.Bounds(\n",
    "    [0.1 / a, 0.0],\n",
    "    [10.0 / a, 10.0],\n",
    ")\n",
    "\n",
    "sol_x = scipy.optimize.minimize(\n",
    "    second_reduced_problem.F,\n",
    "    x0=y0,\n",
    "    method=\"trust-constr\",\n",
    "    jac=second_reduced_problem.gradF,\n",
    "    hess=second_reduced_problem.hess,\n",
    "    bounds=second_reduced_bounds,\n",
    "    options={\n",
    "        \"verbose\": 3,\n",
    "    }\n",
    ")"
   ]
  },
  {
   "cell_type": "code",
   "execution_count": 122,
   "id": "284b5eb9",
   "metadata": {},
   "outputs": [
    {
     "data": {
      "text/plain": [
       "array([2.88217026e+00, 4.91535939e-10, 1.70000000e-03])"
      ]
     },
     "execution_count": 122,
     "metadata": {},
     "output_type": "execute_result"
    }
   ],
   "source": [
    "second_reduced_problem.transform(sol_x.x)"
   ]
  },
  {
   "cell_type": "code",
   "execution_count": 121,
   "id": "b62db79a",
   "metadata": {},
   "outputs": [
    {
     "data": {
      "text/plain": [
       "           message: `gtol` termination condition is satisfied.\n",
       "           success: True\n",
       "            status: 1\n",
       "               fun: 0.6949494027395096\n",
       "                 x: [ 5.764e-01  5.401e-05]\n",
       "               nit: 24\n",
       "              nfev: 18\n",
       "              njev: 12\n",
       "              nhev: 12\n",
       "          cg_niter: 23\n",
       "      cg_stop_cond: 1\n",
       "              grad: [ 6.984e-06  1.184e-01]\n",
       "   lagrangian_grad: [-4.582e-09 -2.834e-13]\n",
       "            constr: [array([ 5.764e-01,  5.401e-05])]\n",
       "               jac: [<Compressed Sparse Row sparse matrix of dtype 'float64'\n",
       "                    \twith 2 stored elements and shape (2, 2)>]\n",
       "       constr_nfev: [0]\n",
       "       constr_njev: [0]\n",
       "       constr_nhev: [0]\n",
       "                 v: [array([-6.989e-06, -1.184e-01])]\n",
       "            method: tr_interior_point\n",
       "        optimality: 4.582062224375925e-09\n",
       "  constr_violation: 0.0\n",
       "    execution_time: 702.6188917160034\n",
       "         tr_radius: 551.9830074842263\n",
       "    constr_penalty: 1.0\n",
       " barrier_parameter: 6.400000000000003e-06\n",
       " barrier_tolerance: 6.400000000000003e-06\n",
       "             niter: 24"
      ]
     },
     "execution_count": 121,
     "metadata": {},
     "output_type": "execute_result"
    }
   ],
   "source": [
    "sol_x"
   ]
  },
  {
   "cell_type": "code",
   "execution_count": 129,
   "id": "3aef584d",
   "metadata": {},
   "outputs": [
    {
     "data": {
      "text/plain": [
       "array([0.57637144, 0.        ])"
      ]
     },
     "execution_count": 129,
     "metadata": {},
     "output_type": "execute_result"
    }
   ],
   "source": [
    "y0 / 5"
   ]
  },
  {
   "cell_type": "code",
   "execution_count": 130,
   "id": "a1d2016a",
   "metadata": {},
   "outputs": [
    {
     "data": {
      "text/plain": [
       "array([2.88185718, 0.        ])"
      ]
     },
     "execution_count": 130,
     "metadata": {},
     "output_type": "execute_result"
    }
   ],
   "source": [
    "y0"
   ]
  },
  {
   "cell_type": "code",
   "execution_count": 126,
   "id": "a47b968b",
   "metadata": {},
   "outputs": [
    {
     "data": {
      "text/plain": [
       "array([[5.0e+00, 0.0e+00],\n",
       "       [0.0e+00, 9.1e-06],\n",
       "       [0.0e+00, 0.0e+00]])"
      ]
     },
     "execution_count": 126,
     "metadata": {},
     "output_type": "execute_result"
    }
   ],
   "source": [
    "second_reduced_problem.S"
   ]
  },
  {
   "cell_type": "code",
   "execution_count": 133,
   "id": "7ed1fdf7",
   "metadata": {},
   "outputs": [
    {
     "name": "stdout",
     "output_type": "stream",
     "text": [
      "Iter                              x     Objective    Proj. Grad Norm\n",
      "----------------------------------------------------------------------\n",
      "   0          [5.764e-01 1.000e-01]  7.069760e-01       1.227917e-01\n",
      "Falling back to projected gradient.\n",
      "   1          [5.916e-01 0.000e+00]  6.949720e-01       3.740036e-03\n",
      "   2          [5.755e-01 0.000e+00]  6.949431e-01       2.171389e-04\n",
      "   3          [5.764e-01 0.000e+00]  6.949430e-01       6.313251e-07\n"
     ]
    },
    {
     "data": {
      "text/plain": [
       "  message: Convergence: Projected gradient norm below tolerance.\n",
       "  success: True\n",
       "      fun: 0.6949430076386374\n",
       "        x: [ 5.764e-01  0.000e+00]\n",
       "      nit: 3\n",
       "     nfev: 4\n",
       "     njev: 4\n",
       "     nhev: 7\n",
       "      jac: [-6.313e-07  1.184e-01]\n",
       " walltime: 204.84353041648865"
      ]
     },
     "execution_count": 133,
     "metadata": {},
     "output_type": "execute_result"
    }
   ],
   "source": [
    "sol_x = projected_newton_solver(\n",
    "    second_reduced_problem.F,\n",
    "    second_reduced_problem.gradF,\n",
    "    second_reduced_problem.hessp,\n",
    "    bounds=second_reduced_bounds,\n",
    "    x0=np.array([y0[0] / 5, 0.1]),\n",
    "    inner_tol=1e-8,\n",
    "    verbose=True,\n",
    ")\n",
    "sol_x"
   ]
  },
  {
   "cell_type": "code",
   "execution_count": null,
   "id": "c04bf9bd",
   "metadata": {},
   "outputs": [],
   "source": [
    "reduced_bounds = scipy.optimize.Bounds([0.5], [10])\n",
    "sol_x = projected_newton_solver(\n",
    "    reduced_problem.F,\n",
    "    reduced_problem.gradF,\n",
    "    reduced_problem.hessp,\n",
    "    bounds=reduced_bounds,\n",
    "    x0=y0,\n",
    "    inner_tol=1e-8,\n",
    "    verbose=True,\n",
    ")\n",
    "sol_x"
   ]
  },
  {
   "cell_type": "code",
   "execution_count": null,
   "id": "7ce697f2",
   "metadata": {},
   "outputs": [],
   "source": [
    "from glymphopt.minimize import custom_trust_region_solver"
   ]
  },
  {
   "cell_type": "code",
   "execution_count": null,
   "id": "6a3e2f38",
   "metadata": {
    "scrolled": false
   },
   "outputs": [],
   "source": [
    "import time as pytime\n",
    "import scipy.optimize\n",
    "bounds = scipy.optimize.Bounds([1e-1, 0, 0], [np.inf, np.inf, np.inf])\n",
    "x0 = [3.0, 1e-6, 1e-3] # 3D \n",
    "# x0 = [8.0, 1e-4, 2]  # 2D test examplea/\n",
    "sol_x = custom_trust_region_solver(\n",
    "    problem.F,\n",
    "    problem.gradF,\n",
    "    problem.hessp,\n",
    "    bounds=bounds,\n",
    "    x0=np.linalg.inv(problem.scale_matrix).dot(x0),\n",
    ")\n",
    "sol_x"
   ]
  },
  {
   "cell_type": "code",
   "execution_count": null,
   "id": "521dd81c",
   "metadata": {},
   "outputs": [],
   "source": [
    "import time as pytime\n",
    "import scipy.optimize\n",
    "bounds = scipy.optimize.Bounds([1e-1, 0, 0], [np.inf, np.inf, np.inf])\n",
    "x0 = [3.0, 1e-6, 1e-3] # 3D \n",
    "# x0 = [8.0, 1e-4, 2]  # 2D test examplea/\n",
    "sol_x = projected_newton_solver(\n",
    "    problem.F,\n",
    "    problem.gradF,\n",
    "    problem.hessp,\n",
    "    bounds=bounds,\n",
    "    x0=np.linalg.inv(problem.scale_matrix).dot(x0),\n",
    "    inner_tol=1e-8,\n",
    "    verbose=True,\n",
    ")\n",
    "sol_x"
   ]
  },
  {
   "cell_type": "code",
   "execution_count": 169,
   "id": "7f18791d",
   "metadata": {},
   "outputs": [
    {
     "name": "stdout",
     "output_type": "stream",
     "text": [
      "0.1\n",
      "0.251188643150958\n",
      "0.6309573444801934\n",
      "1.584893192461114\n",
      "3.981071705534973\n",
      "10.0\n"
     ]
    },
    {
     "data": {
      "image/png": "[encoded data removed]",
      "text/plain": [
       "<Figure size 640x480 with 1 Axes>"
      ]
     },
     "metadata": {},
     "output_type": "display_data"
    }
   ],
   "source": [
    "x0 = coeffconverter.to_vector()\n",
    "x1 = 0.9 * x0\n",
    "S = np.array([[x1[0], 0, 0]]).T\n",
    "offset = np.array([0, *x1[1:]])\n",
    "\n",
    "reduced_problem = ReducedProblem(problem, S, offset)\n",
    "J = []\n",
    "for ri_mult in np.logspace(-1, 1, 6):\n",
    "    print(ri_mult)\n",
    "    J = []\n",
    "    offset = np.array([0, ri_mult * x1[1], x1[2]])\n",
    "    reduced_problem = ReducedProblem(problem, S, offset)\n",
    "    for yi in np.linspace(0.1, 10, 51):\n",
    "        J.append(reduced_problem.F(np.array([yi])))\n",
    "    plt.plot(np.linspace(0.1, 10, 51), J, label=f\"rimult={ri_mult}\")\n",
    "    \n",
    "plt.legend()\n",
    "plt.show()"
   ]
  },
  {
   "cell_type": "code",
   "execution_count": 168,
   "id": "9e038e7e",
   "metadata": {},
   "outputs": [
    {
     "name": "stdout",
     "output_type": "stream",
     "text": [
      "0.1\n",
      "0.251188643150958\n",
      "0.6309573444801934\n",
      "1.584893192461114\n",
      "3.981071705534973\n",
      "10.0\n"
     ]
    },
    {
     "data": {
      "image/png": "[encoded data removed]",
      "text/plain": [
       "<Figure size 640x480 with 1 Axes>"
      ]
     },
     "metadata": {},
     "output_type": "display_data"
    }
   ],
   "source": [
    "x0 = coeffconverter.to_vector()\n",
    "x1 = 0.9 * x0\n",
    "S = np.array([[x1[0], 0, 0]]).T\n",
    "\n",
    "reduced_problem = ReducedProblem(problem, S, offset)\n",
    "J = []\n",
    "for mult in np.logspace(-1, 1, 6):\n",
    "    print(mult)\n",
    "    J = []\n",
    "    offset = np.array([0, x1[1], mult * x1[2]])\n",
    "    reduced_problem = ReducedProblem(problem, S, offset)\n",
    "    for yi in np.linspace(0.1, 10, 51):\n",
    "        J.append(reduced_problem.F(np.array([yi])))\n",
    "    plt.plot(np.linspace(0.1, 10, 51), J, label=f\"rimult={mult}\")\n",
    "    \n",
    "plt.legend()\n",
    "plt.show()"
   ]
  },
  {
   "cell_type": "code",
   "execution_count": 135,
   "id": "ad40e542",
   "metadata": {},
   "outputs": [
    {
     "data": {
      "text/plain": [
       "1.6945225963867596"
      ]
     },
     "execution_count": 135,
     "metadata": {},
     "output_type": "execute_result"
    }
   ],
   "source": [
    "y0 = np.array([.0])\n",
    "reduced_problem.F(y0)"
   ]
  },
  {
   "cell_type": "code",
   "execution_count": 136,
   "id": "60a63c86",
   "metadata": {},
   "outputs": [
    {
     "data": {
      "text/plain": [
       "array([-24.5720376])"
      ]
     },
     "execution_count": 136,
     "metadata": {},
     "output_type": "execute_result"
    }
   ],
   "source": [
    "reduced_problem.gradF(y0)"
   ]
  },
  {
   "cell_type": "code",
   "execution_count": 142,
   "id": "c17a24d4",
   "metadata": {},
   "outputs": [
    {
     "data": {
      "text/plain": [
       "array([4.50e+00, 8.19e-06, 1.53e-03])"
      ]
     },
     "execution_count": 142,
     "metadata": {},
     "output_type": "execute_result"
    }
   ],
   "source": [
    "x1 "
   ]
  },
  {
   "cell_type": "code",
   "execution_count": 143,
   "id": "f7a487f0",
   "metadata": {},
   "outputs": [
    {
     "data": {
      "text/plain": [
       "array([4.50e+00, 8.19e-06, 1.53e-03])"
      ]
     },
     "execution_count": 143,
     "metadata": {},
     "output_type": "execute_result"
    }
   ],
   "source": [
    "x1"
   ]
  },
  {
   "cell_type": "code",
   "execution_count": 167,
   "id": "f352af4c",
   "metadata": {},
   "outputs": [
    {
     "ename": "IndexError",
     "evalue": "index 3 is out of bounds for axis 0 with size 3",
     "output_type": "error",
     "traceback": [
      "\u001b[31m---------------------------------------------------------------------------\u001b[39m",
      "\u001b[31mIndexError\u001b[39m                                Traceback (most recent call last)",
      "\u001b[36mCell\u001b[39m\u001b[36m \u001b[39m\u001b[32mIn[167]\u001b[39m\u001b[32m, line 6\u001b[39m\n\u001b[32m      3\u001b[39m x0 = \u001b[32m0.9\u001b[39m * coeffconverter.to_vector()\n\u001b[32m      5\u001b[39m S = np.array([[x0[\u001b[32m0\u001b[39m], \u001b[32m0\u001b[39m, \u001b[32m0\u001b[39m]]).T\n\u001b[32m----> \u001b[39m\u001b[32m6\u001b[39m offset = np.array([\u001b[32m0.0\u001b[39m, \u001b[32m0.0\u001b[39m, \u001b[43mx0\u001b[49m\u001b[43m[\u001b[49m\u001b[32;43m3\u001b[39;49m\u001b[43m]\u001b[49m])\n\u001b[32m      7\u001b[39m y0 = np.array([\u001b[32m1.0\u001b[39m])\n",
      "\u001b[31mIndexError\u001b[39m: index 3 is out of bounds for axis 0 with size 3"
     ]
    }
   ],
   "source": [
    "problem.silent = True\n",
    "\n",
    "x0 = 0.9 * coeffconverter.to_vector()\n",
    "\n",
    "S = np.array([[x0[0], 0, 0]]).T\n",
    "offset = np.array([0.0, 0.0, x0[3]])\n",
    "y0 = np.array([1.0])"
   ]
  },
  {
   "cell_type": "code",
   "execution_count": 163,
   "id": "43d6211b",
   "metadata": {},
   "outputs": [
    {
     "name": "stdout",
     "output_type": "stream",
     "text": [
      "Iter                              x     Objective    Proj. Grad Norm\n",
      "----------------------------------------------------------------------\n",
      "   0                    [1.000e+00]  8.927392e-03       4.272802e-03\n",
      "   1                    [1.004e+00]  8.918123e-03       2.118828e-05\n",
      "   2                    [1.004e+00]  8.918123e-03       5.280585e-10\n"
     ]
    },
    {
     "data": {
      "text/plain": [
       "  message: Convergence: Projected gradient norm below tolerance.\n",
       "  success: True\n",
       "      fun: 0.008918122792401527\n",
       "        x: [ 1.004e+00]\n",
       "      nit: 2\n",
       "     nfev: 3\n",
       "     njev: 3\n",
       "     nhev: 4\n",
       "      jac: [-5.281e-10]\n",
       " walltime: 6.20486855506897"
      ]
     },
     "execution_count": 163,
     "metadata": {},
     "output_type": "execute_result"
    }
   ],
   "source": [
    "reduced_problem = ReducedProblem(problem, S, offset)\n",
    "reduced_bounds = scipy.optimize.Bounds([0.5], [10])\n",
    "sol_x = projected_newton_solver(\n",
    "    reduced_problem.F,\n",
    "    reduced_problem.gradF,\n",
    "    reduced_problem.hessp,\n",
    "    bounds=reduced_bounds,\n",
    "    x0=y0,\n",
    "    inner_tol=1e-8,\n",
    "    verbose=True,\n",
    ")\n",
    "sol_x"
   ]
  },
  {
   "cell_type": "code",
   "execution_count": 241,
   "id": "21ce1897",
   "metadata": {},
   "outputs": [
    {
     "data": {
      "text/plain": [
       "array([2.33209304, 2.30780983, 2.26870646, 2.20720518, 2.09934814,\n",
       "       1.74001221, 1.22236779, 0.62483362, 0.14773578, 0.0105874 ])"
      ]
     },
     "execution_count": 241,
     "metadata": {},
     "output_type": "execute_result"
    }
   ],
   "source": [
    "color = np.array([d[\"min\"] for d in minimizers.values()])\n",
    "color"
   ]
  },
  {
   "cell_type": "code",
   "execution_count": 245,
   "id": "fab78708",
   "metadata": {},
   "outputs": [
    {
     "data": {
      "text/plain": [
       "[<matplotlib.lines.Line2D at 0x7f35f7937510>]"
      ]
     },
     "execution_count": 245,
     "metadata": {},
     "output_type": "execute_result"
    },
    {
     "data": {
      "image/png": "[encoded data removed]",
      "text/plain": [
       "<Figure size 640x480 with 1 Axes>"
      ]
     },
     "metadata": {},
     "output_type": "display_data"
    }
   ],
   "source": [
    "plt.plot(\n",
    "    [d[\"r\"] for d in minimizers.values()],\n",
    "    [d[\"D_best\"] for d in minimizers.values()],\n",
    ")"
   ]
  },
  {
   "cell_type": "code",
   "execution_count": 247,
   "id": "5f9fbb90",
   "metadata": {},
   "outputs": [
    {
     "data": {
      "text/plain": [
       "[<matplotlib.lines.Line2D at 0x7f35f78a3610>]"
      ]
     },
     "execution_count": 247,
     "metadata": {},
     "output_type": "execute_result"
    },
    {
     "data": {
      "image/png": "[encoded data removed]",
      "text/plain": [
       "<Figure size 640x480 with 1 Axes>"
      ]
     },
     "metadata": {},
     "output_type": "display_data"
    }
   ],
   "source": [
    "plt.plot(\n",
    "    [d[\"r\"] for d in minimizers.values()],\n",
    "    [d[\"min\"] for d in minimizers.values()],\n",
    ")"
   ]
  },
  {
   "cell_type": "code",
   "execution_count": 248,
   "id": "83f18475",
   "metadata": {},
   "outputs": [
    {
     "data": {
      "text/plain": [
       "[<matplotlib.lines.Line2D at 0x7f35f770ea90>]"
      ]
     },
     "execution_count": 248,
     "metadata": {},
     "output_type": "execute_result"
    },
    {
     "data": {
      "image/png": "[encoded data removed]",
      "text/plain": [
       "<Figure size 640x480 with 1 Axes>"
      ]
     },
     "metadata": {},
     "output_type": "display_data"
    }
   ],
   "source": [
    "plt.plot(\n",
    "    [d[\"r\"] for d in minimizers.values()],\n",
    "    [d[\"min\"] for d in minimizers.values()],\n",
    ")"
   ]
  },
  {
   "cell_type": "code",
   "execution_count": 244,
   "id": "c06d82a1",
   "metadata": {},
   "outputs": [
    {
     "data": {
      "text/plain": [
       "{0: {'D_best': np.float64(0.1),\n",
       "  'r': np.float64(1e-07),\n",
       "  'min': 2.332093036578885},\n",
       " 1: {'D_best': np.float64(0.1),\n",
       "  'r': np.float64(1.6681005372000585e-07),\n",
       "  'min': 2.3078098310737962},\n",
       " 2: {'D_best': np.float64(0.1),\n",
       "  'r': np.float64(2.7825594022071243e-07),\n",
       "  'min': 2.2687064608634175},\n",
       " 3: {'D_best': np.float64(0.1),\n",
       "  'r': np.float64(4.6415888336127784e-07),\n",
       "  'min': 2.207205175838655},\n",
       " 4: {'D_best': np.float64(0.8699001417196817),\n",
       "  'r': np.float64(7.74263682681127e-07),\n",
       "  'min': 2.099348138889411},\n",
       " 5: {'D_best': np.float64(1.271759701063249),\n",
       "  'r': np.float64(1.291549665014884e-06),\n",
       "  'min': 1.7400122132598814},\n",
       " 6: {'D_best': np.float64(1.7391686828869632),\n",
       "  'r': np.float64(2.154434690031883e-06),\n",
       "  'min': 1.2223677863733828},\n",
       " 7: {'D_best': np.float64(2.361131201154651),\n",
       "  'r': np.float64(3.5938136638046257e-06),\n",
       "  'min': 0.624833617249247},\n",
       " 8: {'D_best': np.float64(3.4415460455922076),\n",
       "  'r': np.float64(5.994842503189409e-06),\n",
       "  'min': 0.14773578433171877},\n",
       " 9: {'D_best': np.float64(5.84585574876456),\n",
       "  'r': np.float64(9.999999999999999e-06),\n",
       "  'min': 0.010587400503530388}}"
      ]
     },
     "execution_count": 244,
     "metadata": {},
     "output_type": "execute_result"
    }
   ],
   "source": [
    "minimizers"
   ]
  },
  {
   "cell_type": "code",
   "execution_count": 227,
   "id": "c18f0d7c",
   "metadata": {},
   "outputs": [
    {
     "data": {
      "text/plain": [
       "[<matplotlib.lines.Line2D at 0x7f3642bdf5d0>]"
      ]
     },
     "execution_count": 227,
     "metadata": {},
     "output_type": "execute_result"
    },
    {
     "data": {
      "image/png": "[encoded data removed]",
      "text/plain": [
       "<Figure size 640x480 with 1 Axes>"
      ]
     },
     "metadata": {},
     "output_type": "display_data"
    }
   ],
   "source": [
    "plt.plot(best_diffusion.keys(), best_diffusion.values())"
   ]
  },
  {
   "cell_type": "markdown",
   "id": "8493d241",
   "metadata": {},
   "source": [
    "## Scaled Gradient Descent"
   ]
  },
  {
   "cell_type": "code",
   "execution_count": 207,
   "id": "1ec7c9ba",
   "metadata": {},
   "outputs": [],
   "source": [
    "from glymphopt.minimize import projected_gradient_descent"
   ]
  },
  {
   "cell_type": "code",
   "execution_count": 208,
   "id": "f1abb952",
   "metadata": {},
   "outputs": [],
   "source": [
    "S = np.array([\n",
    "    [1.0, 0.0, 0.0],\n",
    "    [0.0, 1e-5,0.0],\n",
    "    [0.0, 0.0, 1e-3]\n",
    "])\n",
    "offset = np.zeros_like(x0)\n",
    "y0 = np.array([1.0, 0., 1e-2])"
   ]
  },
  {
   "cell_type": "code",
   "execution_count": 209,
   "id": "90031c9b",
   "metadata": {},
   "outputs": [],
   "source": [
    "reduced_problem = ReducedProblem(problem, S, x0)\n",
    "reduced_bounds = scipy.optimize.Bounds([0.1, 0.0, 0.1], [10, 100, 100])"
   ]
  },
  {
   "cell_type": "code",
   "execution_count": 210,
   "id": "fb00f305",
   "metadata": {},
   "outputs": [
    {
     "name": "stdout",
     "output_type": "stream",
     "text": [
      "[ 0.30914226 10.3548905   0.1       ] [ 1.38171548e+00 -2.07097810e+01  7.23360050e-04] 0.5 20.755822491369283\n",
      "[ 0.3518523  10.34544857  0.10036907] [-0.08542008  0.01888387 -0.00073814] 0.5 0.08748562582212092\n",
      "[ 0.39381156 10.33596255  0.10074086] [-0.08391853  0.01897204 -0.00074358] 0.5 0.08603958931708335\n",
      "[ 0.4350547  10.326434    0.10111522] [-0.08248626  0.01905711 -0.00074871] 0.5 0.08466237332960577\n",
      "[ 0.47561373 10.31686434  0.10149199] [-0.08111806  0.01913931 -0.00075355] 0.5 0.08334879252278626\n",
      "[ 0.51551836 10.30725492  0.10187104] [-0.07980926  0.01921885 -0.00075811] 0.5 0.08209419420979369\n",
      "[ 0.55479618 10.29760695  0.10225225] [-0.07855564  0.01929592 -0.00076241] 0.5 0.08089438988098054\n",
      "[ 0.59347288 10.28792161  0.10263548] [-0.0773534   0.0193707  -0.00076646] 0.5 0.07974559720896424\n",
      "[ 0.63157243 10.27819994  0.10302062] [-0.07619911  0.01944332 -0.00077029] 0.5 0.07864439068541425\n",
      "[ 0.66911724 10.26844297  0.10340757] [-0.07508963  0.01951395 -0.0007739 ] 0.5 0.07758765940918488\n",
      "[ 0.7061283  10.25865162  0.10379622] [-0.07402211  0.0195827  -0.0007773 ] 0.5 0.07657257083117716\n",
      "[ 0.74262527 10.24882677  0.10418648] [-0.07299395  0.0196497  -0.00078051] 0.5 0.0755965394860633\n",
      "[ 0.77862666 10.23896925  0.10457824] [-0.07200278  0.01971505 -0.00078353] 0.5 0.07465719991896247\n",
      "[ 0.81414987 10.22907982  0.10497143] [-0.07104641  0.01977886 -0.00078638] 0.5 0.07375238315694654\n",
      "[ 0.84921129 10.21915921  0.10536596] [-0.07012283  0.01984122 -0.00078905] 0.5 0.0728800961889348\n",
      "[ 0.88382639 10.20920811  0.10576174] [-0.06923021  0.01990221 -0.00079157] 0.5 0.07203850400916295\n",
      "[ 0.9180098  10.19922715  0.10615871] [-0.06836682  0.01996192 -0.00079394] 0.5 0.07122591385369353\n",
      "[ 0.95177535 10.18921694  0.10655679] [-0.0675311   0.02002041 -0.00079616] 0.5 0.07044076131994287\n",
      "[ 0.98513615 10.17917806  0.10695591] [-0.06672159  0.02007777 -0.00079824] 0.5 0.06968159810875044\n",
      "[ 1.01810462 10.16911104  0.107356  ] [-0.06593694  0.02013404 -0.00080019] 0.5 0.06894708116925471\n",
      "[ 1.05069256 10.15901639  0.10775701] [-0.06517588  0.0201893  -0.00080201] 0.5 0.06823596306051583\n",
      "[ 1.08291119 10.1488946   0.10815886] [-0.06443725  0.02024359 -0.00080371] 0.5 0.06754708337175083\n",
      "[ 1.11477117 10.13874612  0.10856151] [-0.06371996  0.02029696 -0.00080529] 0.5 0.0668793610663227\n",
      "[ 1.14628267 10.12857138  0.10896489] [-0.06302299  0.02034948 -0.00080676] 0.5 0.06623178763407862\n",
      "[ 1.17745536 10.11837079  0.10936895] [-0.06234539  0.02040117 -0.00080813] 0.5 0.06560342095297515\n",
      "[ 1.2082985  10.10814474  0.10977364] [-0.06168627  0.0204521  -0.00080939] 0.5 0.06499337977468264\n",
      "[ 1.2388209  10.0978936   0.11017892] [-0.0610448   0.02050228 -0.00081055] 0.5 0.06440083876050233\n",
      "[ 1.26903099 10.08761772  0.11058472] [-0.06042019  0.02055177 -0.00081161] 0.5 0.06382502400378293\n",
      "[ 1.29893685 10.07731742  0.11099102] [-0.05981172  0.0206006  -0.00081259] 0.5 0.0632652089834335\n",
      "[ 1.3285462  10.06699302  0.11139775] [-0.05921869  0.0206488  -0.00081347] 0.5 0.06272071090027442\n",
      "[ 1.35786642 10.05664482  0.11180489] [-0.05864045  0.0206964  -0.00081427] 0.5 0.06219088735411453\n",
      "[ 1.38690462 10.0462731   0.11221238] [-0.05807639  0.02074344 -0.00081499] 0.5 0.061675133324692336\n",
      "[ 1.41566759 10.03587813  0.1126202 ] [-0.05752594  0.02078994 -0.00081563] 0.5 0.06117287842415646\n",
      "[ 1.44416187 10.02546017  0.11302829] [-0.05698855  0.02083593 -0.00081619] 0.5 0.06068358439266215\n",
      "[ 1.47239373 10.01501945  0.11343663] [-0.05646371  0.02088143 -0.00081667] 0.5 0.06020674281204393\n",
      "[ 1.50036919 10.00455621  0.11384517] [-0.05595093  0.02092647 -0.00081709] 0.5 0.059741873015456894\n",
      "[1.52809406 9.99407067 0.11425389] [-0.05544975  0.02097108 -0.00081743] 0.5 0.0592885201734249\n",
      "[1.55557393 9.98356304 0.11466274] [-0.05495973  0.02101527 -0.00081771] 0.5 0.05884625353895654\n",
      "[1.58281415 9.97303351 0.1150717 ] [-0.05448046  0.02105906 -0.00081792] 0.5 0.05841466483632593\n",
      "[1.60981993 9.96248228 0.11548074] [-0.05401154  0.02110247 -0.00081807] 0.5 0.05799336677981703\n",
      "[1.63659624 9.95190951 0.11588982] [-0.05355262  0.02114553 -0.00081816] 0.5 0.05758199171020998\n",
      "[1.6631479  9.94131538 0.11629892] [-0.05310332  0.02118825 -0.00081819] 0.5 0.057180190338102316\n",
      "[1.68947955 9.93070006 0.116708  ] [-0.05266332  0.02123065 -0.00081816] 0.5 0.05678763058430638\n",
      "[1.7155957  9.92006368 0.11711704] [-0.05223229  0.02127275 -0.00081808] 0.5 0.05640399650857587\n",
      "[1.74150066 9.90940641 0.117526  ] [-0.05180993  0.02131455 -0.00081794] 0.5 0.056028987318817454\n",
      "[1.76719863 9.89872837 0.11793488] [-0.05139594  0.02135608 -0.00081775] 0.5 0.0556623164537327\n",
      "[1.79269366 9.8880297  0.11834363] [-0.05099005  0.02139735 -0.00081751] 0.5 0.05530371073254126\n",
      "[1.81798966 9.87731051 0.11875224] [-0.050592    0.02143837 -0.00081721] 0.5 0.05495290956606346\n",
      "[1.84309043 9.86657093 0.11916067] [-0.05020153  0.02147916 -0.00081687] 0.5 0.054609664223992486\n",
      "[1.86799963 9.85581107 0.11956892] [-0.0498184   0.02151972 -0.00081649] 0.5 0.05427373715368841\n",
      "[1.89272082 9.84503103 0.11997694] [-0.04944238  0.02156008 -0.00081605] 0.5 0.05394490134626229\n",
      "[1.91725745 9.83423091 0.12038473] [-0.04907325  0.02160024 -0.00081557] 0.5 0.05362293974612038\n",
      "[1.94161284 9.8234108  0.12079225] [-0.0487108   0.02164022 -0.00081505] 0.5 0.053307644700489015\n",
      "[1.96579025 9.81257079 0.1211995 ] [-0.04835481  0.02168002 -0.00081449] 0.5 0.05299881744575756\n",
      "[1.98979281 9.80171096 0.12160644] [-0.04800511  0.02171966 -0.00081388] 0.5 0.052696267627765817\n",
      "[2.01362356 9.79083139 0.12201306] [-0.0476615   0.02175914 -0.00081324] 0.5 0.052399812853415904\n",
      "[2.03728546 9.77993215 0.12241933] [-0.04732381  0.02179848 -0.00081255] 0.5 0.05210927827121744\n",
      "[2.06078139 9.76901331 0.12282525] [-0.04699186  0.02183768 -0.00081183] 0.5 0.05182449617858802\n",
      "[2.08411414 9.75807493 0.12323078] [-0.04666549  0.02187676 -0.00081107] 0.5 0.05154530565391241\n",
      "[2.10728641 9.74711708 0.12363592] [-0.04634455  0.02191572 -0.00081027] 0.5 0.051271552211540734\n",
      "[2.13030085 9.73613979 0.12404063] [-0.04602887  0.02195457 -0.00080944] 0.5 0.05100308747804943\n",
      "[2.15316001 9.72514314 0.12444492] [-0.04571832  0.02199331 -0.00080857] 0.5 0.05073976888823943\n"
     ]
    },
    {
     "ename": "KeyboardInterrupt",
     "evalue": "",
     "output_type": "error",
     "traceback": [
      "\u001b[31m---------------------------------------------------------------------------\u001b[39m",
      "\u001b[31mKeyboardInterrupt\u001b[39m                         Traceback (most recent call last)",
      "\u001b[36mCell\u001b[39m\u001b[36m \u001b[39m\u001b[32mIn[210]\u001b[39m\u001b[32m, line 1\u001b[39m\n\u001b[32m----> \u001b[39m\u001b[32m1\u001b[39m \u001b[43mprojected_gradient_descent\u001b[49m\u001b[43m(\u001b[49m\n\u001b[32m      2\u001b[39m \u001b[43m    \u001b[49m\u001b[43mreduced_problem\u001b[49m\u001b[43m.\u001b[49m\u001b[43mF\u001b[49m\u001b[43m,\u001b[49m\n\u001b[32m      3\u001b[39m \u001b[43m    \u001b[49m\u001b[43mreduced_problem\u001b[49m\u001b[43m.\u001b[49m\u001b[43mgradF\u001b[49m\u001b[43m,\u001b[49m\n\u001b[32m      4\u001b[39m \u001b[43m    \u001b[49m\u001b[43m(\u001b[49m\u001b[43mreduced_bounds\u001b[49m\u001b[43m.\u001b[49m\u001b[43mlb\u001b[49m\u001b[43m,\u001b[49m\u001b[43m \u001b[49m\u001b[43mreduced_bounds\u001b[49m\u001b[43m.\u001b[49m\u001b[43mub\u001b[49m\u001b[43m)\u001b[49m\u001b[43m,\u001b[49m\n\u001b[32m      5\u001b[39m \u001b[43m    \u001b[49m\u001b[43mx0\u001b[49m\u001b[43m=\u001b[49m\u001b[43my0\u001b[49m\u001b[43m,\u001b[49m\n\u001b[32m      6\u001b[39m \u001b[43m)\u001b[49m\n",
      "\u001b[36mFile \u001b[39m\u001b[32m<string>:29\u001b[39m, in \u001b[36mprojected_gradient_descent\u001b[39m\u001b[34m(func, grad, bounds, x0, tol, max_iter, ls_alpha, ls_beta, ls_max_iter)\u001b[39m\n",
      "\u001b[36mCell\u001b[39m\u001b[36m \u001b[39m\u001b[32mIn[159]\u001b[39m\u001b[32m, line 10\u001b[39m, in \u001b[36mReducedProblem.F\u001b[39m\u001b[34m(self, y)\u001b[39m\n\u001b[32m      9\u001b[39m \u001b[38;5;28;01mdef\u001b[39;00m\u001b[38;5;250m \u001b[39m\u001b[34mF\u001b[39m(\u001b[38;5;28mself\u001b[39m, y):\n\u001b[32m---> \u001b[39m\u001b[32m10\u001b[39m     \u001b[38;5;28;01mreturn\u001b[39;00m \u001b[43mproblem\u001b[49m\u001b[43m.\u001b[49m\u001b[43mF\u001b[49m\u001b[43m(\u001b[49m\u001b[38;5;28;43mself\u001b[39;49m\u001b[43m.\u001b[49m\u001b[43mS\u001b[49m\u001b[43m.\u001b[49m\u001b[43mdot\u001b[49m\u001b[43m(\u001b[49m\u001b[43my\u001b[49m\u001b[43m)\u001b[49m\u001b[43m \u001b[49m\u001b[43m+\u001b[49m\u001b[43m \u001b[49m\u001b[38;5;28;43mself\u001b[39;49m\u001b[43m.\u001b[49m\u001b[43mx0\u001b[49m\u001b[43m)\u001b[49m\n",
      "\u001b[36mCell\u001b[39m\u001b[36m \u001b[39m\u001b[32mIn[59]\u001b[39m\u001b[32m, line 51\u001b[39m, in \u001b[36mInverseProblem.F\u001b[39m\u001b[34m(self, x)\u001b[39m\n\u001b[32m     50\u001b[39m \u001b[38;5;28;01mdef\u001b[39;00m\u001b[38;5;250m \u001b[39m\u001b[34mF\u001b[39m(\u001b[38;5;28mself\u001b[39m, x):\n\u001b[32m---> \u001b[39m\u001b[32m51\u001b[39m     Y = \u001b[43mcache_fetch\u001b[49m\u001b[43m(\u001b[49m\u001b[38;5;28;43mself\u001b[39;49m\u001b[43m.\u001b[49m\u001b[43mcache\u001b[49m\u001b[43m[\u001b[49m\u001b[33;43m\"\u001b[39;49m\u001b[33;43mstate\u001b[39;49m\u001b[33;43m\"\u001b[39;49m\u001b[43m]\u001b[49m\u001b[43m,\u001b[49m\u001b[43m \u001b[49m\u001b[38;5;28;43mself\u001b[39;49m\u001b[43m.\u001b[49m\u001b[43mforward\u001b[49m\u001b[43m,\u001b[49m\u001b[43m \u001b[49m\u001b[43m{\u001b[49m\u001b[33;43m\"\u001b[39;49m\u001b[33;43mx\u001b[39;49m\u001b[33;43m\"\u001b[39;49m\u001b[43m:\u001b[49m\u001b[43m \u001b[49m\u001b[43mx\u001b[49m\u001b[43m}\u001b[49m\u001b[43m,\u001b[49m\u001b[43m \u001b[49m\u001b[43mx\u001b[49m\u001b[43m=\u001b[49m\u001b[43mx\u001b[49m\u001b[43m)\u001b[49m\n\u001b[32m     52\u001b[39m     Ym = measure(\u001b[38;5;28mself\u001b[39m.timestepper, Y, \u001b[38;5;28mself\u001b[39m.td)\n\u001b[32m     53\u001b[39m     _M_ = bilinear_operator(\u001b[38;5;28mself\u001b[39m.model.M)\n",
      "\u001b[36mFile \u001b[39m\u001b[32m~/Dropbox/code/glymphopt/src/glymphopt/cache.py:20\u001b[39m, in \u001b[36mcache_fetch\u001b[39m\u001b[34m(cache, func, cache_kwargs, **funkwargs)\u001b[39m\n\u001b[32m     18\u001b[39m     val = cache.val\n\u001b[32m     19\u001b[39m \u001b[38;5;28;01melse\u001b[39;00m:\n\u001b[32m---> \u001b[39m\u001b[32m20\u001b[39m     fval = \u001b[43mfunc\u001b[49m\u001b[43m(\u001b[49m\u001b[43m*\u001b[49m\u001b[43m*\u001b[49m\u001b[43mfunkwargs\u001b[49m\u001b[43m)\u001b[49m\n\u001b[32m     21\u001b[39m     cache.val = fval\n\u001b[32m     22\u001b[39m     \u001b[38;5;28;01mfor\u001b[39;00m key, val \u001b[38;5;129;01min\u001b[39;00m cache_kwargs.items():\n",
      "\u001b[36mCell\u001b[39m\u001b[36m \u001b[39m\u001b[32mIn[59]\u001b[39m\u001b[32m, line 156\u001b[39m, in \u001b[36mInverseProblem.forward\u001b[39m\u001b[34m(self, x)\u001b[39m\n\u001b[32m    154\u001b[39m N = \u001b[38;5;28mself\u001b[39m.timestepper.num_intervals()\n\u001b[32m    155\u001b[39m \u001b[38;5;28;01mfor\u001b[39;00m n \u001b[38;5;129;01min\u001b[39;00m tqdm.tqdm(\u001b[38;5;28mrange\u001b[39m(N), total=N, disable=\u001b[38;5;28mself\u001b[39m.silent):\n\u001b[32m--> \u001b[39m\u001b[32m156\u001b[39m     \u001b[43msolver\u001b[49m\u001b[43m.\u001b[49m\u001b[43msolve\u001b[49m\u001b[43m(\u001b[49m\u001b[43mY\u001b[49m\u001b[43m[\u001b[49m\u001b[43mn\u001b[49m\u001b[43m+\u001b[49m\u001b[32;43m1\u001b[39;49m\u001b[43m]\u001b[49m\u001b[43m.\u001b[49m\u001b[43mvector\u001b[49m\u001b[43m(\u001b[49m\u001b[43m)\u001b[49m\u001b[43m,\u001b[49m\u001b[43m \u001b[49m\u001b[43mMdot\u001b[49m\u001b[43m(\u001b[49m\u001b[43mY\u001b[49m\u001b[43m[\u001b[49m\u001b[43mn\u001b[49m\u001b[43m]\u001b[49m\u001b[43m.\u001b[49m\u001b[43mvector\u001b[49m\u001b[43m(\u001b[49m\u001b[43m)\u001b[49m\u001b[43m)\u001b[49m\u001b[43m \u001b[49m\u001b[43m+\u001b[49m\u001b[43m \u001b[49m\u001b[43mdt\u001b[49m\u001b[43m \u001b[49m\u001b[43m*\u001b[49m\u001b[43m \u001b[49m\u001b[43mk\u001b[49m\u001b[43m \u001b[49m\u001b[43m*\u001b[49m\u001b[43m \u001b[49m\u001b[43mG\u001b[49m\u001b[43m[\u001b[49m\u001b[43mn\u001b[49m\u001b[43m+\u001b[49m\u001b[32;43m1\u001b[39;49m\u001b[43m]\u001b[49m\u001b[43m)\u001b[49m\n\u001b[32m    157\u001b[39m \u001b[38;5;28;01mreturn\u001b[39;00m Y\n",
      "\u001b[31mKeyboardInterrupt\u001b[39m: "
     ]
    }
   ],
   "source": [
    "projected_gradient_descent(\n",
    "    reduced_problem.F,\n",
    "    reduced_problem.gradF,\n",
    "    (reduced_bounds.lb, reduced_bounds.ub),\n",
    "    x0=y0,\n",
    ")"
   ]
  },
  {
   "cell_type": "code",
   "execution_count": null,
   "id": "fcf38266",
   "metadata": {},
   "outputs": [],
   "source": []
  }
 ],
 "metadata": {
  "kernelspec": {
   "display_name": "Python 3 (ipykernel)",
   "language": "python",
   "name": "python3"
  },
  "language_info": {
   "codemirror_mode": {
    "name": "ipython",
    "version": 3
   },
   "file_extension": ".py",
   "mimetype": "text/x-python",
   "name": "python",
   "nbconvert_exporter": "python",
   "pygments_lexer": "ipython3",
   "version": "3.11.11"
  }
 },
 "nbformat": 4,
 "nbformat_minor": 5
}
