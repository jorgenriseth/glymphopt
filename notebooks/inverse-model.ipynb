{
 "cells": [
  {
   "cell_type": "code",
   "execution_count": 157,
   "id": "a9fc35d3",
   "metadata": {},
   "outputs": [],
   "source": [
    "import numpy as np\n",
    "import dolfin as df\n",
    "import tqdm\n",
    "from dolfin import inner, grad, dot\n",
    "\n",
    "from glymphopt.datageneration import BoundaryConcentration\n",
    "from glymphopt.io import read_mesh, read_function_data\n",
    "from glymphopt.measure import measure\n",
    "from glymphopt.operators import (\n",
    "    mass_matrix, boundary_mass_matrix, stiffness_matrix, matrix_operator, bilinear_operator, matmul, zero_vector\n",
    ")\n",
    "from glymphopt.parameters import parameters_2d_default\n",
    "from glymphopt.timesteppers import TimeStepper"
   ]
  },
  {
   "cell_type": "code",
   "execution_count": 313,
   "id": "542db58a",
   "metadata": {},
   "outputs": [],
   "source": [
    "def all_timepoints(dt, intervals):\n",
    "    t0, _ = intervals[0]\n",
    "    timesteppers = [subinterval_timestepper(dt, int_start, int_end) for int_start, int_end in intervals]\n",
    "    return np.concatenate([[t0], *[ts.vector()[1:] for ts in timesteppers]])\n",
    "\n",
    "def vector2coeff(x: np.ndarray, *args):\n",
    "    return parameters_2d_default() | {key: xi for key, xi in zip(args, x)}\n",
    "\n",
    "def coeff2vector(coefficients: dict[str, float], *args):\n",
    "    return np.array([coefficients[key] for key in args])\n",
    "\n",
    "class Model:\n",
    "    def __init__(self, V, D=None, g=None):\n",
    "        D = D or df.Identity(2)\n",
    "        self.g = g or BoundaryConcentration(V)\n",
    "        \n",
    "        domain = V.mesh()\n",
    "        dx = df.Measure(\"dx\", domain)\n",
    "        ds = df.Measure(\"ds\", domain)\n",
    "        \n",
    "        u, v = df.TrialFunction(V), df.TestFunction(V)\n",
    "        self.M = df.assemble(inner(u, v) * dx)\n",
    "        self.DK = df.assemble(inner(D * grad(u), grad(v)) * dx)\n",
    "        self.S = df.assemble(inner(u, v) * ds)\n",
    "        self.g = g or BoundaryConcentration(V)\n",
    "        \n",
    "        \n",
    "def gradient_finite_differences(F, x, h, **kwargs):\n",
    "    return np.array([\n",
    "        (\n",
    "            F(x + (h * x[i]) * ei, **kwargs) \n",
    "            - F(x - (h * x[i]) * ei, **kwargs)\n",
    "        ) / (2 * (h * x[i]))\n",
    "        for i, ei in enumerate(np.eye(len(x)))\n",
    "    ])\n",
    "\n",
    "\n",
    "def gradient_sensitivities(F, x, **kwargs):\n",
    "    return np.array([F(x, ei, **kwargs) for ei in np.eye(len(x))])\n",
    "\n",
    "def measure_interval(n: int, td: np.ndarray, timestepper: TimeStepper):\n",
    "    bins = np.digitize(td, timestepper.vector(), right=True)\n",
    "    return list(np.where(n == bins)[0])"
   ]
  },
  {
   "cell_type": "code",
   "execution_count": 402,
   "id": "90395402",
   "metadata": {},
   "outputs": [],
   "source": [
    "class InverseProblem:\n",
    "    def __init__(self, data_path, dt=0.1, progress=True):\n",
    "        self.progress = progress\n",
    "        domain = read_mesh(data_path)\n",
    "        self.td, self.Yd = read_function_data(data_path, domain, \"concentration\")\n",
    "        self.timestepper = TimeStepper(dt, (self.td[0], self.td[-1]))\n",
    "        self.V = self.Yd[0].function_space()\n",
    "        self.model = Model(self.V, g=BoundaryConcentration(self.V))\n",
    "        \n",
    "    def F(self, x):\n",
    "        Y = self.forward(x, self.timestepper)\n",
    "        Ym = measure(self.timestepper, Y, self.td)\n",
    "        _M_ = bilinear_operator(self.model.M)\n",
    "        J = 0.5 * sum([\n",
    "            _M_(Ym_i.vector() - Yd_i.vector(), Ym_i.vector() - Yd_i.vector()) \n",
    "            for Ym_i, Yd_i in zip(Ym, self.Yd)\n",
    "        ])\n",
    "        return J\n",
    "    \n",
    "    def gradF(self, x):\n",
    "        model = self.model\n",
    "        Y = self.forward(x, self.timestepper)\n",
    "        Ym = measure(self.timestepper, Y, self.td)\n",
    "        P = self.adjoint(x, self.timestepper, Ym)\n",
    "        G = [matmul(model.S, model.g(t)) for t in self.timestepper.vector()]\n",
    "        _M_ = bilinear_operator(model.M)\n",
    "        _DK_ = bilinear_operator(model.DK)\n",
    "        _S_ = bilinear_operator(model.S)\n",
    "        return dt * sum(\n",
    "            np.array([\n",
    "                _DK_(p.vector(), y.vector()),\n",
    "                _M_(p.vector(), y.vector()),\n",
    "                _S_(p.vector(), y.vector()) - p.vector().inner(g),\n",
    "            ])\n",
    "            for y, p, g in zip(Y[1:], P[:-1], G[1:])\n",
    "        )\n",
    "\n",
    "    def dF(self, x, dx):\n",
    "        timestepper = self.timestepper\n",
    "        coefficients = vector2coeff(x)\n",
    "        Y = self.forward(x, self.timestepper)\n",
    "        dY = self.sensitivity(x, dx, Y)\n",
    "        \n",
    "        Ym = measure(self.timestepper, Y, self.td)\n",
    "        dYm = measure(timestepper, dY, self.td)\n",
    "        _M_ = bilinear_operator(self.model.M)\n",
    "        return sum([_M_(ym.vector() - yd.vector(), dy.vector()) for ym, yd, dy in zip(Ym, self.Yd, dYm)])\n",
    "    \n",
    "    \n",
    "    def hessp(self, x, dx):\n",
    "        Y = self.forward(x, self.timestepper)\n",
    "        Ym = measure(self.timestepper, Y, self.td)\n",
    "        dY = self.sensitivity(x, dx, Y)\n",
    "        dYm = measure(self.timestepper, dY, self.td)\n",
    "        \n",
    "        P = self.adjoint(x, self.timestepper, Ym)\n",
    "        dP = self.second_order_adjoint(x, dx, dYm, P)\n",
    "        \n",
    "        model = self.model\n",
    "        G = [matmul(model.S, model.g(t)) for t in self.timestepper.vector()]\n",
    "        _DK_ = bilinear_operator(model.DK)\n",
    "        _M_ = bilinear_operator(model.M)\n",
    "        _S_ = bilinear_operator(model.S)\n",
    "        return dt * sum(\n",
    "            np.array([\n",
    "                _DK_(dp.vector(), y.vector()) + _DK_(p.vector(), dy.vector()),\n",
    "                _M_(dp.vector(), y.vector()) + _M_(p.vector(), dy.vector()),\n",
    "                _S_(dp.vector(), y.vector()) - dp.vector().inner(g) + _S_(p.vector(), dy.vector()),\n",
    "            ])\n",
    "            for y, dy, p, dp, g in zip(Y[1:], dY[1:], P[:-1], dP[:-1], G[1:])\n",
    "        )\n",
    "\n",
    "    def forward(self, x, timestepper):\n",
    "        coefficients = vector2coeff(x, \"a\", \"r\", \"k\")\n",
    "        a = coefficients[\"a\"]\n",
    "        r = coefficients[\"r\"]\n",
    "        k = coefficients[\"k\"]\n",
    "        \n",
    "        \n",
    "        dt = timestepper.dt\n",
    "        timepoints = timestepper.vector()\n",
    "        Y = [\n",
    "            df.Function(self.V, name=\"state\") \n",
    "            for _ in range(len(timepoints))\n",
    "        ]\n",
    "        Y[0].assign(self.Yd[0])\n",
    "        model = self.model\n",
    "        M = model.M\n",
    "        L = a * model.DK + r * model.M + k * model.S\n",
    "        solver = df.LUSolver(M + dt * L)\n",
    "        Mdot = matrix_operator(M)\n",
    "        G = [matmul(model.S, model.g(t)) for t in timepoints]\n",
    "        for n in range(self.timestepper.num_intervals()):\n",
    "            solver.solve(Y[n+1].vector(), Mdot(Y[n].vector()) + dt * k * G[n+1])\n",
    "        return Y\n",
    "    \n",
    "    def adjoint(self, x, timestepper, Ym) -> list[df.Function]:\n",
    "        # TODO: Needs speedup. Should not allocate zero_vector at each iteration.\n",
    "        coefficients = vector2coeff(x, \"a\", \"r\", \"k\")\n",
    "        a = coefficients[\"a\"]\n",
    "        r = coefficients[\"r\"]\n",
    "        k = coefficients[\"k\"]\n",
    "        \n",
    "        \n",
    "        dt = timestepper.dt\n",
    "        timepoints = timestepper.vector()\n",
    "        \n",
    "        model = self.model\n",
    "        M = model.M\n",
    "        L = a * model.DK + r * model.M + k * model.S\n",
    "        solver = df.LUSolver(M + dt * L)\n",
    "\n",
    "        P = [\n",
    "            df.Function(self.V, name=\"adjoint\") \n",
    "            for _ in range(len(timepoints))\n",
    "        ]\n",
    "        Mdot = matrix_operator(M)\n",
    "        num_intervals = timestepper.num_intervals()\n",
    "        for n in tqdm.tqdm(list(range(num_intervals, 0, -1))):\n",
    "            nj = measure_interval(n, self.td, self.timestepper)\n",
    "            jump = sum((matmul(M, (Ym[j].vector() - Yd[j].vector())) for j in nj))#, start=zero_vector(self.V))\n",
    "\n",
    "            solver.solve(\n",
    "                P[n-1].vector(),\n",
    "                Mdot(P[n].vector()) - jump,\n",
    "            )\n",
    "        return P\n",
    "    \n",
    "    def sensitivity(self, x, dx, Y) -> list[df.Function]:\n",
    "        coefficients = vector2coeff(x, \"a\", \"r\", \"k\")\n",
    "        a = coefficients[\"a\"]\n",
    "        r = coefficients[\"r\"]\n",
    "        k = coefficients[\"k\"]\n",
    "        dD, dr, dk = dx\n",
    "\n",
    "        timestepper = self.timestepper\n",
    "        dt = timestepper.dt\n",
    "        timepoints = timestepper.vector()\n",
    "        dY = [df.Function(self.V, name=\"sensitivity\") for _ in range(len(timepoints))]\n",
    "\n",
    "        model = self.model\n",
    "        M = model.M\n",
    "        L = a * model.DK + r * model.M + k * model.S\n",
    "        solver = df.LUSolver(M + dt * L)\n",
    "        \n",
    "        dL = dD * model.DK + dr * model.M + dk * model.S\n",
    "        Mdot = matrix_operator(M)\n",
    "        dLdot = matrix_operator(dL)\n",
    "        Sdot = matrix_operator(model.S)\n",
    "        G = [matmul(model.S, model.g(t)) for t in timepoints]\n",
    "        for n, t in enumerate(tqdm.tqdm(timepoints[1:]), start=0):\n",
    "            solver.solve(\n",
    "                dY[n+1].vector(),\n",
    "                Mdot(dY[n].vector()) - dt * dLdot(Y[n+1].vector()) + dt * dk * G[n+1]\n",
    "            )\n",
    "        return dY\n",
    "    \n",
    "    def second_order_adjoint(self, x, dx, dYm, P):\n",
    "        coefficients = vector2coeff(x, \"a\", \"r\", \"k\")\n",
    "        a = coefficients[\"a\"]\n",
    "        r = coefficients[\"r\"]\n",
    "        k = coefficients[\"k\"]\n",
    "        dD, dr, dk = dx\n",
    "\n",
    "        timestepper = self.timestepper\n",
    "        dt = timestepper.dt\n",
    "        timepoints = timestepper.vector()\n",
    "        \n",
    "        dP = [df.Function(self.V, name=\"second-order-adjoint\") for _ in range(len(timepoints))]\n",
    "\n",
    "        model = self.model\n",
    "        M = model.M\n",
    "        L = a * model.DK + r * model.M + k * model.S\n",
    "        dL = dD * model.DK + dr * model.M + dk * model.S\n",
    "        solver = df.LUSolver(M + dt * L)\n",
    "\n",
    "        Mdot = matrix_operator(M)\n",
    "        dLdot = matrix_operator(dL)\n",
    "        num_intervals = timestepper.num_intervals()\n",
    "        for n in tqdm.tqdm(list(range(num_intervals, 0, -1))):\n",
    "            nj = measure_interval(n, self.td, self.timestepper)\n",
    "            jump = sum((matmul(M, dYm[j].vector()) for j in nj))\n",
    "            solver.solve(\n",
    "                dP[n - 1].vector(),\n",
    "                Mdot(dP[n].vector()) - dt * dLdot(P[n-1].vector()) - jump,\n",
    "            )\n",
    "        return dP\n"
   ]
  },
  {
   "cell_type": "code",
   "execution_count": 403,
   "id": "b8d4ea71",
   "metadata": {},
   "outputs": [
    {
     "name": "stderr",
     "output_type": "stream",
     "text": [
      "100%|███████████████████████████████████████| 709/709 [00:00<00:00, 2551.79it/s]\n",
      "100%|███████████████████████████████████████| 709/709 [00:00<00:00, 2567.55it/s]\n",
      "100%|███████████████████████████████████████| 709/709 [00:00<00:00, 2260.48it/s]\n",
      "100%|███████████████████████████████████████| 709/709 [00:00<00:00, 2562.60it/s]\n",
      "100%|███████████████████████████████████████| 709/709 [00:00<00:00, 2577.75it/s]\n",
      "100%|███████████████████████████████████████| 709/709 [00:00<00:00, 2280.02it/s]\n",
      "100%|███████████████████████████████████████| 709/709 [00:00<00:00, 2563.35it/s]\n",
      "100%|███████████████████████████████████████| 709/709 [00:00<00:00, 2573.98it/s]\n",
      "100%|███████████████████████████████████████| 709/709 [00:00<00:00, 2274.40it/s]\n"
     ]
    },
    {
     "data": {
      "text/plain": [
       "array([[ 1.26256645e+01, -3.67377826e+03,  2.77164149e+01],\n",
       "       [-3.67377826e+03,  3.70217593e+06, -1.64184574e+04],\n",
       "       [ 2.77164149e+01, -1.64184574e+04,  5.30364049e+02]])"
      ]
     },
     "execution_count": 403,
     "metadata": {},
     "output_type": "execute_result"
    }
   ],
   "source": [
    "data_path = \"../resources/concentrations.hdf\"\n",
    "progress = True\n",
    "domain = read_mesh(data_path)\n",
    "td, Yd = read_function_data(data_path, domain, \"concentration\")\n",
    "\n",
    "coefficients = parameters_2d_default()\n",
    "x0 = coeff2vector(coefficients, \"a\", \"r\", \"k\")\n",
    "x1 = 0.9 * x0\n",
    "\n",
    "coefficients = vector2coeff(x1, \"a\", \"r\", \"k\")\n",
    "coefficients\n",
    "\n",
    "problem = InverseProblem(data_path, dt=0.1)\n",
    "# problem.F(1.0*x0)\n",
    "\n",
    "# gradient_sensitivities(problem.dF, \n",
    "\n",
    "np.array([\n",
    "    problem.hessp(x, ei) for ei in np.eye(len(x))\n",
    "])"
   ]
  },
  {
   "cell_type": "code",
   "execution_count": 373,
   "id": "75188d93",
   "metadata": {},
   "outputs": [
    {
     "name": "stderr",
     "output_type": "stream",
     "text": [
      "100%|███████████████████████████████████████| 709/709 [00:00<00:00, 2627.66it/s]\n"
     ]
    },
    {
     "data": {
      "text/plain": [
       "-84.88718837835228"
      ]
     },
     "execution_count": 373,
     "metadata": {},
     "output_type": "execute_result"
    }
   ],
   "source": [
    "problem.dF(x, [0, 0., 1.0])"
   ]
  },
  {
   "cell_type": "code",
   "execution_count": 374,
   "id": "7645c9dc",
   "metadata": {},
   "outputs": [
    {
     "name": "stderr",
     "output_type": "stream",
     "text": [
      "100%|███████████████████████████████████████| 709/709 [00:00<00:00, 2617.12it/s]\n"
     ]
    },
    {
     "data": {
      "text/plain": [
       "array([ -14.43723252, 5437.89603661,  -84.88718838])"
      ]
     },
     "execution_count": 374,
     "metadata": {},
     "output_type": "execute_result"
    }
   ],
   "source": [
    "problem.gradF(x)"
   ]
  },
  {
   "cell_type": "markdown",
   "id": "3b5421ec",
   "metadata": {},
   "source": [
    "# Convergence test"
   ]
  },
  {
   "cell_type": "code",
   "execution_count": 367,
   "id": "305ee119",
   "metadata": {},
   "outputs": [
    {
     "name": "stderr",
     "output_type": "stream",
     "text": [
      "100%|███████████████████████████████████████| 709/709 [00:00<00:00, 2577.60it/s]\n"
     ]
    },
    {
     "name": "stdout",
     "output_type": "stream",
     "text": [
      "h = 0.1, errornorm = 3.871165549881375, rel=\n",
      "h = 0.05, errornorm = 0.9615456680481657, rel=4.0259819980671585\n",
      "h = 0.025, errornorm = 0.23999879477002986, rel=4.006460403142991\n",
      "h = 0.0125, errornorm = 0.05997551344082433, rel=4.001613008395968\n",
      "h = 0.00625, errornorm = 0.014992373471196953, rel=4.000401507876527\n",
      "h = 0.003125, errornorm = 0.0037479987716247296, rel=4.000100956462659\n",
      "h = 0.0015625, errornorm = 0.0009370171283897894, rel=3.9999255702672714\n",
      "h = 0.00078125, errornorm = 0.00023424964753940452, rel=4.000079138783627\n"
     ]
    },
    {
     "data": {
      "image/png": "[encoded data removed]",
      "text/plain": [
       "<Figure size 640x480 with 1 Axes>"
      ]
     },
     "metadata": {},
     "output_type": "display_data"
    }
   ],
   "source": [
    "import matplotlib.pyplot as plt\n",
    "x = x1\n",
    "gradF = problem.gradF(x)\n",
    "\n",
    "hs = [0.5**i * 1e-1 for i in range(8)]\n",
    "errors = np.nan * np.zeros_like(hs)\n",
    "for i, h in enumerate(hs):\n",
    "    dF_findiff = gradient_finite_differences(problem.F, x, h=h)\n",
    "    errors[i] = np.linalg.norm(gradF - dF_findiff)\n",
    "    if i > 0:\n",
    "        print(f\"h = {h}, errornorm = {errors[i]}, rel={errors[i-1]/errors[i]}\")\n",
    "    else:\n",
    "        print(f\"h = {h}, errornorm = {errors[i]}, rel=\")\n",
    "\n",
    "plt.loglog(hs, errors, \"x-\")\n",
    "plt.show()"
   ]
  },
  {
   "cell_type": "code",
   "execution_count": null,
   "id": "c400bed8",
   "metadata": {},
   "outputs": [],
   "source": []
  }
 ],
 "metadata": {
  "kernelspec": {
   "display_name": "Python 3 (ipykernel)",
   "language": "python",
   "name": "python3"
  },
  "language_info": {
   "codemirror_mode": {
    "name": "ipython",
    "version": 3
   },
   "file_extension": ".py",
   "mimetype": "text/x-python",
   "name": "python",
   "nbconvert_exporter": "python",
   "pygments_lexer": "ipython3",
   "version": "3.11.11"
  }
 },
 "nbformat": 4,
 "nbformat_minor": 5
}
