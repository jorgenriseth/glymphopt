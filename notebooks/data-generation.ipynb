{
 "cells": [
  {
   "cell_type": "markdown",
   "id": "8dae40bf",
   "metadata": {},
   "source": [
    "# Two-dimensional test data generation\n",
    "This notebook implements the data-generation procedure.\n",
    "$$\n",
    "\\begin{aligned}\n",
    "\\partial_t c + \\text{div}(-\\alpha\\mathbb{D}\\nabla c) + r c &= 0 \\\\\n",
    "\\text{div}(-\\alpha\\mathbb{D}\\nabla c) \\cdot \\vec{n} &= k(c - g(t))\n",
    "\\end{aligned}\n",
    "$$\n",
    "\n",
    "Where \n",
    "- $\\alpha = 5$\n",
    "- $\\mathbb{D} = (2\\times10^{-4}$ mm$^2$/s) $I$\n",
    "- $r = 9.1\\times10^{-6}$1/s\n",
    "- $\\hat k = 1.7\\times10^{-3}$mm/s\n",
    "- $g = \\phi c_{\\partial\\Omega}$"
   ]
  },
  {
   "cell_type": "code",
   "execution_count": 1,
   "id": "c2b4d2a2",
   "metadata": {},
   "outputs": [],
   "source": [
    "import pint\n",
    "import json"
   ]
  },
  {
   "cell_type": "code",
   "execution_count": 33,
   "id": "5a4d7b64",
   "metadata": {},
   "outputs": [
    {
     "name": "stdout",
     "output_type": "stream",
     "text": [
      "{\n",
      "  \"a\": 5,\n",
      "  \"phi\": 0.22,\n",
      "  \"D_\": 0.0002,\n",
      "  \"r\": 9.1e-06,\n",
      "  \"k\": 0.0017\n",
      "}\n"
     ]
    }
   ],
   "source": [
    "ureg = pint.get_application_registry()\n",
    "mm = ureg.mm\n",
    "s = ureg.s\n",
    "parameters = dict(    \n",
    "    a = 5,\n",
    "    phi = 0.22,\n",
    "    D_ = (2e-4 * mm**2 / s),\n",
    "    r = (9.1e-6 * 1 / s),\n",
    "    k = (1.7e-3 * mm / s),\n",
    ")\n",
    "coefficients = {\n",
    "    \"a\": parameters[\"a\"],\n",
    "    \"phi\": parameters[\"phi\"],\n",
    "    \"D_\": parameters[\"D_\"].to(\"mm^2/s\").magnitude,\n",
    "    \"r\": parameters[\"r\"].to(\"1/s\").magnitude,\n",
    "    \"k\": parameters[\"k\"].to(\"mm/s\").magnitude,\n",
    "}\n",
    "print(json.dumps(coefficients, indent=2))"
   ]
  },
  {
   "cell_type": "code",
   "execution_count": 42,
   "id": "9fe16098",
   "metadata": {},
   "outputs": [
    {
     "name": "stdout",
     "output_type": "stream",
     "text": [
      "{'a': 5, 'phi': 0.22, 'D_': 0.0002, 'r': 9.1e-06, 'k': 0.0017}\n",
      "Calling FFC just-in-time (JIT) compiler, this may take some time.\n"
     ]
    },
    {
     "name": "stderr",
     "output_type": "stream",
     "text": [
      "100%|████████████████████████████████████████| 710/710 [00:01<00:00, 420.25it/s]\n"
     ]
    },
    {
     "name": "stdout",
     "output_type": "stream",
     "text": [
      "TimeStepper(dt=360.0, interval=(0.0, np.float64(255276.0))) [     0.  17316.  94824. 173952. 255276.]\n"
     ]
    }
   ],
   "source": [
    "import numpy as np\n",
    "import dolfin as df\n",
    "import tqdm\n",
    "import pantarei as pr\n",
    "from dolfin import inner, grad, dot\n",
    "\n",
    "from glymphopt.datageneration import BoundaryConcentration\n",
    "from glymphopt.measure import measure\n",
    "from glymphopt.parameters import parameters_2d_default\n",
    "from glymphopt.timestepper import TimeStepper\n",
    "\n",
    "\n",
    "def generate_data(domain_path, outputdir, tscale=1.0):\n",
    "    acquisition_times = tscale * np.array([0.0, 4.81, 26.34, 48.32, 70.91])\n",
    "\n",
    "    dt = 0.1 * tscale\n",
    "    endtime = np.ceil(acquisition_times)[-1]\n",
    "\n",
    "    timestepper = TimeStepper(dt, (0.0, endtime))\n",
    "    timepoints = timestepper.vector()\n",
    "\n",
    "    with df.HDF5File(df.MPI.comm_world, str(domain_path), \"r\") as hdf:\n",
    "        domain = pr.read_domain(hdf)\n",
    "\n",
    "    V = df.FunctionSpace(domain, \"CG\", 1)\n",
    "    c_bdry = BoundaryConcentration(V, timescale=tscale)\n",
    "\n",
    "    coefficients = parameters_2d_default()\n",
    "    dt = timestepper.dt\n",
    "    r = coefficients[\"r\"]\n",
    "    k = coefficients[\"k\"]\n",
    "    a = coefficients[\"a\"]\n",
    "    D_ = coefficients[\"D_\"]\n",
    "    aD = a * (D_ * df.Identity(2))  # type: ignore\n",
    "    print(coefficients)\n",
    "\n",
    "    u0 = df.Function(V)\n",
    "    dx = df.Measure(\"dx\", domain)\n",
    "    ds = df.Measure(\"ds\", domain)\n",
    "    u, v = df.TrialFunction(V), df.TestFunction(V)\n",
    "\n",
    "    a = inner(u, v) * dx + dt * (\n",
    "        inner(dot(aD, grad(u)), grad(v)) * dx\n",
    "        + r * inner(u, v) * dx  # type: ignore\n",
    "        + k * inner(u, v) * ds  # type: ignore\n",
    "    )\n",
    "    L = u0 * v * dx + dt * k * (phi * c_bdry) * v * ds  # type: ignore\n",
    "\n",
    "    assembler = df.SystemAssembler(a, L)\n",
    "    A, b = df.PETScMatrix(), df.PETScVector()\n",
    "    assembler.assemble(A, b)\n",
    "    solver = df.LUSolver(A)\n",
    "\n",
    "    Y = [df.Function(V, name=\"concentration\") for _ in range(len(timepoints))]\n",
    "    for n, tn in enumerate(tqdm.tqdm(timepoints[1:]), start=1):\n",
    "        u0.assign(Y[n - 1])\n",
    "        c_bdry.update(tn)\n",
    "        assembler.assemble(b)\n",
    "        solver.solve(Y[n].vector(), b)\n",
    "\n",
    "    xdmf_boundary = df.XDMFFile(\n",
    "        domain.mpi_comm(), f\"{outputdir}/true_boundary_concentration.xdmf\"\n",
    "    )\n",
    "    xdmf_internal = df.XDMFFile(\n",
    "        domain.mpi_comm(), f\"{outputdir}/true_concentration.xdmf\"\n",
    "    )\n",
    "    for n, tn in enumerate(timepoints):\n",
    "        xdmf_boundary.write(c_bdry.update(tn), t=tn)\n",
    "        xdmf_internal.write(Y[n], t=tn)\n",
    "    xdmf_boundary.close()\n",
    "    xdmf_internal.close()\n",
    "\n",
    "    print(timestepper, acquisition_times)\n",
    "    Ym = measure(timestepper, Y, acquisition_times)\n",
    "\n",
    "    xdmf_measured = df.XDMFFile(\n",
    "        domain.mpi_comm(), f\"{outputdir}/measured_concentration.xdmf\"\n",
    "    )\n",
    "    hdf_measured = df.HDF5File(\n",
    "        domain.mpi_comm(), f\"{outputdir}/concentrations.hdf\", \"w\"\n",
    "    )\n",
    "    for i, ti in enumerate(acquisition_times):\n",
    "        xdmf_measured.write(Ym[i], t=ti)\n",
    "        if i == 0:\n",
    "            pr.write_function(hdf_measured, Ym[i], \"concentration\")\n",
    "            pr.write_function(hdf_measured, c_bdry.update(ti), \"boundary_concentration\")\n",
    "        else:\n",
    "            pr.write_checkpoint(hdf_measured, Ym[i], \"concentration\", t=ti)\n",
    "            pr.write_checkpoint(\n",
    "                hdf_measured, c_bdry.update(ti), \"boundary_concentration\", t=ti\n",
    "            )\n",
    "\n",
    "    xdmf_measured.close()\n",
    "    hdf_measured.close()\n",
    "\n",
    "\n",
    "if __name__ == \"__main__\":\n",
    "    generate_data(\"../resources/brain-2d-domain.hdf\", \"../resources\", tscale=3600)\n"
   ]
  }
 ],
 "metadata": {
  "kernelspec": {
   "display_name": "Python 3 (ipykernel)",
   "language": "python",
   "name": "python3"
  },
  "language_info": {
   "codemirror_mode": {
    "name": "ipython",
    "version": 3
   },
   "file_extension": ".py",
   "mimetype": "text/x-python",
   "name": "python",
   "nbconvert_exporter": "python",
   "pygments_lexer": "ipython3",
   "version": "3.11.11"
  }
 },
 "nbformat": 4,
 "nbformat_minor": 5
}
